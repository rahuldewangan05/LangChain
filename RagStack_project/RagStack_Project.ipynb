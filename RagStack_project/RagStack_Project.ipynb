{
  "cells": [
    {
      "cell_type": "markdown",
      "metadata": {
        "id": "HLgyL5P6sfym"
      },
      "source": [
        "Ragstack include all the libraries for rag pattern , including the vector database, embeddings pipelines and retrieval"
      ]
    },
    {
      "cell_type": "code",
      "execution_count": 1,
      "metadata": {
        "id": "Wi2RD0fowR6k"
      },
      "outputs": [],
      "source": [
        "!pip install -q ragstack-ai datasets"
      ]
    },
    {
      "cell_type": "code",
      "execution_count": 9,
      "metadata": {
        "colab": {
          "base_uri": "https://localhost:8080/"
        },
        "id": "boKnuxH_PkyS",
        "outputId": "bd533ff7-b16d-494a-906f-22b9543731ba"
      },
      "outputs": [
        {
          "name": "stdout",
          "output_type": "stream",
          "text": [
            "torch version: 2.2.1+cu121\n",
            "transformers version: 4.49.0\n"
          ]
        }
      ],
      "source": [
        "import torch\n",
        "import transformers\n",
        "\n",
        "print(f\"torch version: {torch.__version__}\")\n",
        "print(f\"transformers version: {transformers.__version__}\")"
      ]
    },
    {
      "cell_type": "code",
      "execution_count": 10,
      "metadata": {
        "colab": {
          "base_uri": "https://localhost:8080/",
          "height": 1000
        },
        "id": "HZ_4j75GOlxt",
        "outputId": "36e5acbf-595d-4753-9fd1-cbe649fcc318"
      },
      "outputs": [
        {
          "name": "stdout",
          "output_type": "stream",
          "text": [
            "Requirement already satisfied: torch in /usr/local/lib/python3.11/dist-packages (2.2.1)\n",
            "Collecting torch\n",
            "  Using cached torch-2.6.0-cp311-cp311-manylinux1_x86_64.whl.metadata (28 kB)\n",
            "Requirement already satisfied: transformers in /usr/local/lib/python3.11/dist-packages (4.49.0)\n",
            "Requirement already satisfied: filelock in /usr/local/lib/python3.11/dist-packages (from torch) (3.17.0)\n",
            "Requirement already satisfied: typing-extensions>=4.10.0 in /usr/local/lib/python3.11/dist-packages (from torch) (4.12.2)\n",
            "Requirement already satisfied: networkx in /usr/local/lib/python3.11/dist-packages (from torch) (3.4.2)\n",
            "Requirement already satisfied: jinja2 in /usr/local/lib/python3.11/dist-packages (from torch) (3.1.6)\n",
            "Requirement already satisfied: fsspec in /usr/local/lib/python3.11/dist-packages (from torch) (2024.3.1)\n",
            "Collecting nvidia-cuda-nvrtc-cu12==12.4.127 (from torch)\n",
            "  Using cached nvidia_cuda_nvrtc_cu12-12.4.127-py3-none-manylinux2014_x86_64.whl.metadata (1.5 kB)\n",
            "Collecting nvidia-cuda-runtime-cu12==12.4.127 (from torch)\n",
            "  Using cached nvidia_cuda_runtime_cu12-12.4.127-py3-none-manylinux2014_x86_64.whl.metadata (1.5 kB)\n",
            "Collecting nvidia-cuda-cupti-cu12==12.4.127 (from torch)\n",
            "  Using cached nvidia_cuda_cupti_cu12-12.4.127-py3-none-manylinux2014_x86_64.whl.metadata (1.6 kB)\n",
            "Collecting nvidia-cudnn-cu12==9.1.0.70 (from torch)\n",
            "  Using cached nvidia_cudnn_cu12-9.1.0.70-py3-none-manylinux2014_x86_64.whl.metadata (1.6 kB)\n",
            "Collecting nvidia-cublas-cu12==12.4.5.8 (from torch)\n",
            "  Using cached nvidia_cublas_cu12-12.4.5.8-py3-none-manylinux2014_x86_64.whl.metadata (1.5 kB)\n",
            "Collecting nvidia-cufft-cu12==11.2.1.3 (from torch)\n",
            "  Using cached nvidia_cufft_cu12-11.2.1.3-py3-none-manylinux2014_x86_64.whl.metadata (1.5 kB)\n",
            "Collecting nvidia-curand-cu12==10.3.5.147 (from torch)\n",
            "  Using cached nvidia_curand_cu12-10.3.5.147-py3-none-manylinux2014_x86_64.whl.metadata (1.5 kB)\n",
            "Collecting nvidia-cusolver-cu12==11.6.1.9 (from torch)\n",
            "  Using cached nvidia_cusolver_cu12-11.6.1.9-py3-none-manylinux2014_x86_64.whl.metadata (1.6 kB)\n",
            "Collecting nvidia-cusparse-cu12==12.3.1.170 (from torch)\n",
            "  Using cached nvidia_cusparse_cu12-12.3.1.170-py3-none-manylinux2014_x86_64.whl.metadata (1.6 kB)\n",
            "Requirement already satisfied: nvidia-cusparselt-cu12==0.6.2 in /usr/local/lib/python3.11/dist-packages (from torch) (0.6.2)\n",
            "Collecting nvidia-nccl-cu12==2.21.5 (from torch)\n",
            "  Using cached nvidia_nccl_cu12-2.21.5-py3-none-manylinux2014_x86_64.whl.metadata (1.8 kB)\n",
            "Collecting nvidia-nvtx-cu12==12.4.127 (from torch)\n",
            "  Using cached nvidia_nvtx_cu12-12.4.127-py3-none-manylinux2014_x86_64.whl.metadata (1.7 kB)\n",
            "Requirement already satisfied: nvidia-nvjitlink-cu12==12.4.127 in /usr/local/lib/python3.11/dist-packages (from torch) (12.4.127)\n",
            "Collecting triton==3.2.0 (from torch)\n",
            "  Using cached triton-3.2.0-cp311-cp311-manylinux_2_17_x86_64.manylinux2014_x86_64.whl.metadata (1.4 kB)\n",
            "Requirement already satisfied: sympy==1.13.1 in /usr/local/lib/python3.11/dist-packages (from torch) (1.13.1)\n",
            "Requirement already satisfied: mpmath<1.4,>=1.1.0 in /usr/local/lib/python3.11/dist-packages (from sympy==1.13.1->torch) (1.3.0)\n",
            "Requirement already satisfied: huggingface-hub<1.0,>=0.26.0 in /usr/local/lib/python3.11/dist-packages (from transformers) (0.28.1)\n",
            "Requirement already satisfied: numpy>=1.17 in /usr/local/lib/python3.11/dist-packages (from transformers) (1.26.4)\n",
            "Requirement already satisfied: packaging>=20.0 in /usr/local/lib/python3.11/dist-packages (from transformers) (24.2)\n",
            "Requirement already satisfied: pyyaml>=5.1 in /usr/local/lib/python3.11/dist-packages (from transformers) (6.0.2)\n",
            "Requirement already satisfied: regex!=2019.12.17 in /usr/local/lib/python3.11/dist-packages (from transformers) (2024.11.6)\n",
            "Requirement already satisfied: requests in /usr/local/lib/python3.11/dist-packages (from transformers) (2.32.3)\n",
            "Requirement already satisfied: tokenizers<0.22,>=0.21 in /usr/local/lib/python3.11/dist-packages (from transformers) (0.21.1)\n",
            "Requirement already satisfied: safetensors>=0.4.1 in /usr/local/lib/python3.11/dist-packages (from transformers) (0.5.3)\n",
            "Requirement already satisfied: tqdm>=4.27 in /usr/local/lib/python3.11/dist-packages (from transformers) (4.67.1)\n",
            "Requirement already satisfied: MarkupSafe>=2.0 in /usr/local/lib/python3.11/dist-packages (from jinja2->torch) (3.0.2)\n",
            "Requirement already satisfied: charset-normalizer<4,>=2 in /usr/local/lib/python3.11/dist-packages (from requests->transformers) (3.4.1)\n",
            "Requirement already satisfied: idna<4,>=2.5 in /usr/local/lib/python3.11/dist-packages (from requests->transformers) (3.10)\n",
            "Requirement already satisfied: urllib3<3,>=1.21.1 in /usr/local/lib/python3.11/dist-packages (from requests->transformers) (2.3.0)\n",
            "Requirement already satisfied: certifi>=2017.4.17 in /usr/local/lib/python3.11/dist-packages (from requests->transformers) (2025.1.31)\n",
            "Using cached torch-2.6.0-cp311-cp311-manylinux1_x86_64.whl (766.7 MB)\n",
            "Using cached nvidia_cublas_cu12-12.4.5.8-py3-none-manylinux2014_x86_64.whl (363.4 MB)\n",
            "Using cached nvidia_cuda_cupti_cu12-12.4.127-py3-none-manylinux2014_x86_64.whl (13.8 MB)\n",
            "Using cached nvidia_cuda_nvrtc_cu12-12.4.127-py3-none-manylinux2014_x86_64.whl (24.6 MB)\n",
            "Using cached nvidia_cuda_runtime_cu12-12.4.127-py3-none-manylinux2014_x86_64.whl (883 kB)\n",
            "Using cached nvidia_cudnn_cu12-9.1.0.70-py3-none-manylinux2014_x86_64.whl (664.8 MB)\n",
            "Using cached nvidia_cufft_cu12-11.2.1.3-py3-none-manylinux2014_x86_64.whl (211.5 MB)\n",
            "Using cached nvidia_curand_cu12-10.3.5.147-py3-none-manylinux2014_x86_64.whl (56.3 MB)\n",
            "Using cached nvidia_cusolver_cu12-11.6.1.9-py3-none-manylinux2014_x86_64.whl (127.9 MB)\n",
            "Using cached nvidia_cusparse_cu12-12.3.1.170-py3-none-manylinux2014_x86_64.whl (207.5 MB)\n",
            "Using cached nvidia_nccl_cu12-2.21.5-py3-none-manylinux2014_x86_64.whl (188.7 MB)\n",
            "Using cached nvidia_nvtx_cu12-12.4.127-py3-none-manylinux2014_x86_64.whl (99 kB)\n",
            "Using cached triton-3.2.0-cp311-cp311-manylinux_2_17_x86_64.manylinux2014_x86_64.whl (253.2 MB)\n",
            "Installing collected packages: triton, nvidia-nvtx-cu12, nvidia-nccl-cu12, nvidia-cusparse-cu12, nvidia-curand-cu12, nvidia-cufft-cu12, nvidia-cuda-runtime-cu12, nvidia-cuda-nvrtc-cu12, nvidia-cuda-cupti-cu12, nvidia-cublas-cu12, nvidia-cusolver-cu12, nvidia-cudnn-cu12, torch\n",
            "  Attempting uninstall: triton\n",
            "    Found existing installation: triton 2.2.0\n",
            "    Uninstalling triton-2.2.0:\n",
            "      Successfully uninstalled triton-2.2.0\n",
            "  Attempting uninstall: nvidia-nvtx-cu12\n",
            "    Found existing installation: nvidia-nvtx-cu12 12.1.105\n",
            "    Uninstalling nvidia-nvtx-cu12-12.1.105:\n",
            "      Successfully uninstalled nvidia-nvtx-cu12-12.1.105\n",
            "  Attempting uninstall: nvidia-nccl-cu12\n",
            "    Found existing installation: nvidia-nccl-cu12 2.19.3\n",
            "    Uninstalling nvidia-nccl-cu12-2.19.3:\n",
            "      Successfully uninstalled nvidia-nccl-cu12-2.19.3\n",
            "  Attempting uninstall: nvidia-cusparse-cu12\n",
            "    Found existing installation: nvidia-cusparse-cu12 12.1.0.106\n",
            "    Uninstalling nvidia-cusparse-cu12-12.1.0.106:\n",
            "      Successfully uninstalled nvidia-cusparse-cu12-12.1.0.106\n",
            "  Attempting uninstall: nvidia-curand-cu12\n",
            "    Found existing installation: nvidia-curand-cu12 10.3.2.106\n",
            "    Uninstalling nvidia-curand-cu12-10.3.2.106:\n",
            "      Successfully uninstalled nvidia-curand-cu12-10.3.2.106\n",
            "  Attempting uninstall: nvidia-cufft-cu12\n",
            "    Found existing installation: nvidia-cufft-cu12 11.0.2.54\n",
            "    Uninstalling nvidia-cufft-cu12-11.0.2.54:\n",
            "      Successfully uninstalled nvidia-cufft-cu12-11.0.2.54\n",
            "  Attempting uninstall: nvidia-cuda-runtime-cu12\n",
            "    Found existing installation: nvidia-cuda-runtime-cu12 12.1.105\n",
            "    Uninstalling nvidia-cuda-runtime-cu12-12.1.105:\n",
            "      Successfully uninstalled nvidia-cuda-runtime-cu12-12.1.105\n",
            "  Attempting uninstall: nvidia-cuda-nvrtc-cu12\n",
            "    Found existing installation: nvidia-cuda-nvrtc-cu12 12.1.105\n",
            "    Uninstalling nvidia-cuda-nvrtc-cu12-12.1.105:\n",
            "      Successfully uninstalled nvidia-cuda-nvrtc-cu12-12.1.105\n",
            "  Attempting uninstall: nvidia-cuda-cupti-cu12\n",
            "    Found existing installation: nvidia-cuda-cupti-cu12 12.1.105\n",
            "    Uninstalling nvidia-cuda-cupti-cu12-12.1.105:\n",
            "      Successfully uninstalled nvidia-cuda-cupti-cu12-12.1.105\n",
            "  Attempting uninstall: nvidia-cublas-cu12\n",
            "    Found existing installation: nvidia-cublas-cu12 12.1.3.1\n",
            "    Uninstalling nvidia-cublas-cu12-12.1.3.1:\n",
            "      Successfully uninstalled nvidia-cublas-cu12-12.1.3.1\n",
            "  Attempting uninstall: nvidia-cusolver-cu12\n",
            "    Found existing installation: nvidia-cusolver-cu12 11.4.5.107\n",
            "    Uninstalling nvidia-cusolver-cu12-11.4.5.107:\n",
            "      Successfully uninstalled nvidia-cusolver-cu12-11.4.5.107\n",
            "  Attempting uninstall: nvidia-cudnn-cu12\n",
            "    Found existing installation: nvidia-cudnn-cu12 8.9.2.26\n",
            "    Uninstalling nvidia-cudnn-cu12-8.9.2.26:\n",
            "      Successfully uninstalled nvidia-cudnn-cu12-8.9.2.26\n",
            "  Attempting uninstall: torch\n",
            "    Found existing installation: torch 2.2.1\n",
            "    Uninstalling torch-2.2.1:\n",
            "      Successfully uninstalled torch-2.2.1\n",
            "\u001b[31mERROR: pip's dependency resolver does not currently take into account all the packages that are installed. This behaviour is the source of the following dependency conflicts.\n",
            "ragstack-ai-colbert 1.0.6 requires torch==2.2.1, but you have torch 2.6.0 which is incompatible.\u001b[0m\u001b[31m\n",
            "\u001b[0mSuccessfully installed nvidia-cublas-cu12-12.4.5.8 nvidia-cuda-cupti-cu12-12.4.127 nvidia-cuda-nvrtc-cu12-12.4.127 nvidia-cuda-runtime-cu12-12.4.127 nvidia-cudnn-cu12-9.1.0.70 nvidia-cufft-cu12-11.2.1.3 nvidia-curand-cu12-10.3.5.147 nvidia-cusolver-cu12-11.6.1.9 nvidia-cusparse-cu12-12.3.1.170 nvidia-nccl-cu12-2.21.5 nvidia-nvtx-cu12-12.4.127 torch-2.6.0 triton-3.2.0\n"
          ]
        },
        {
          "data": {
            "application/vnd.colab-display-data+json": {
              "id": "9553a491390a4af281b66ea0f227f04b",
              "pip_warning": {
                "packages": [
                  "torch",
                  "torchgen"
                ]
              }
            }
          },
          "metadata": {},
          "output_type": "display_data"
        }
      ],
      "source": [
        "# Upgrade torch and transformers\n",
        "!pip install --upgrade torch transformers"
      ]
    },
    {
      "cell_type": "code",
      "execution_count": null,
      "metadata": {
        "id": "7fv8tyhzOx3e"
      },
      "outputs": [],
      "source": []
    },
    {
      "cell_type": "code",
      "execution_count": 1,
      "metadata": {
        "id": "muRQjk2yvf1G"
      },
      "outputs": [],
      "source": [
        "import cassio"
      ]
    },
    {
      "cell_type": "markdown",
      "metadata": {
        "id": "ThJRzY0pvwpv"
      },
      "source": [
        "settings fro AstraDB and openai"
      ]
    },
    {
      "cell_type": "code",
      "execution_count": 2,
      "metadata": {
        "id": "QGamE0pGviHy"
      },
      "outputs": [],
      "source": [
        "import os\n",
        "from getpass import getpass"
      ]
    },
    {
      "cell_type": "code",
      "execution_count": null,
      "metadata": {
        "colab": {
          "base_uri": "https://localhost:8080/"
        },
        "id": "zkvTFklFvuxe",
        "outputId": "94f09020-eff0-4c39-9506-8d66517ce66a"
      },
      "outputs": [
        {
          "name": "stdout",
          "output_type": "stream",
          "text": [
            "Enter your Astra DB API Endpoint: https://9891d8e2-3585-4b42-8e1d-70b198236a40-us-east-2.apps.astra.datastax.com\n",
            "Enter Your Astra DB Token: ··········\n",
            "Enter your openai api key: ··········\n"
          ]
        }
      ],
      "source": [
        "os.environ[\"ASTRA_DB_API_ENDPOINT\"]=input(\"Enter your Astra DB API Endpoint: \")\n",
        "os.environ[\"ASTRA_DB_APPLICATION_TOKEN\"]=getpass(\"Enter Your Astra DB Token: \")\n",
        "os.environ[\"OPENAI_API_KEY\"]=getpass(\"Enter your openai api key: \")"
      ]
    },
    {
      "cell_type": "markdown",
      "metadata": {
        "id": "dmdo9pgiQogI"
      },
      "source": [
        "## creating RAG pipeline"
      ]
    },
    {
      "cell_type": "markdown",
      "metadata": {
        "id": "VYUoF76lQuMd"
      },
      "source": [
        "Embedding model and vector store"
      ]
    },
    {
      "cell_type": "code",
      "execution_count": 5,
      "metadata": {
        "id": "o_JcvwexQrcC"
      },
      "outputs": [],
      "source": [
        "from langchain_astradb import AstraDBVectorStore\n",
        "from langchain_community.embeddings import OpenAIEmbeddings\n",
        "from langchain_community.vectorstores.cassandra import Cassandra\n",
        "import os"
      ]
    },
    {
      "cell_type": "code",
      "execution_count": 6,
      "metadata": {
        "id": "YE7Xg5sgjxhB"
      },
      "outputs": [],
      "source": [
        "from langchain_community.embeddings import HuggingFaceBgeEmbeddings"
      ]
    },
    {
      "cell_type": "code",
      "execution_count": 20,
      "metadata": {
        "id": "OcRdEBofjxe_"
      },
      "outputs": [],
      "source": [
        "from langchain_community.embeddings import HuggingFaceBgeEmbeddings\n",
        "embedding=HuggingFaceBgeEmbeddings(\n",
        "    model_name=\"BAAI/bge-small-en-v1.5\",\n",
        "    model_kwargs={'device':'cpu'},\n",
        "    encode_kwargs={'normalize_embeddings':True}\n",
        ")"
      ]
    },
    {
      "cell_type": "markdown",
      "metadata": {
        "id": "sh0t1dP7qYWV"
      },
      "source": [
        "### Making Vectorstore"
      ]
    },
    {
      "cell_type": "code",
      "execution_count": 21,
      "metadata": {
        "colab": {
          "base_uri": "https://localhost:8080/"
        },
        "id": "414YZ6TefMbe",
        "outputId": "c4b12bcc-c4c1-42fe-8183-0a00988bd6fb"
      },
      "outputs": [
        {
          "name": "stdout",
          "output_type": "stream",
          "text": [
            "Astra DB vectorstore is configured\n"
          ]
        }
      ],
      "source": [
        "vectordb=AstraDBVectorStore(\n",
        "    collection_name=\"ragstack_demo\",\n",
        "    embedding=embedding,\n",
        "    token=os.getenv(\"ASTRA_DB_APPLICATION_TOKEN\"),\n",
        "    api_endpoint=os.getenv(\"ASTRA_DB_API_ENDPOINT\")\n",
        ")\n",
        "print(\"Astra DB vectorstore is configured\")"
      ]
    },
    {
      "cell_type": "markdown",
      "metadata": {
        "id": "UN6mp8zUrmka"
      },
      "source": [
        "## Load the dataset"
      ]
    },
    {
      "cell_type": "code",
      "execution_count": 22,
      "metadata": {
        "colab": {
          "base_uri": "https://localhost:8080/"
        },
        "id": "rsIor27kZKsV",
        "outputId": "f747566b-ec2c-4d6e-98d6-a5b4d66f2340"
      },
      "outputs": [
        {
          "name": "stdout",
          "output_type": "stream",
          "text": [
            "An example entry:\n",
            "{'author': 'aristotle', 'quote': 'Love well, be loved and do something of value.', 'tags': 'love;ethics'}\n"
          ]
        }
      ],
      "source": [
        "from datasets import load_dataset\n",
        "\n",
        "## loading dataset\n",
        "philosopher_dataset=load_dataset(\"datastax/philosopher-quotes\")[\"train\"]\n",
        "print(\"An example entry:\")\n",
        "print(philosopher_dataset[16])"
      ]
    },
    {
      "cell_type": "markdown",
      "metadata": {
        "id": "WWzuc3W9tnTp"
      },
      "source": [
        "## extracting useful data from dataset and arranging according to our need"
      ]
    },
    {
      "cell_type": "code",
      "execution_count": 23,
      "metadata": {
        "id": "fcWdURjNsE1V"
      },
      "outputs": [],
      "source": [
        "from langchain.schema import Document\n",
        "\n",
        "## construct a set of document from your data. Document can be used as input to vector store\n",
        "docs=[]\n",
        "for entry in philosopher_dataset:\n",
        "  metadata={\"author\":entry[\"author\"]}\n",
        "  if entry[\"tags\"]:\n",
        "    ## add metadata tag to metadata dictnory\n",
        "    for tag in entry['tags'].split(\";\"):\n",
        "      metadata[tag]=\"y\"\n",
        "  doc=Document(page_content=entry[\"quote\"],metadata=metadata)\n",
        "  docs.append(doc)"
      ]
    },
    {
      "cell_type": "code",
      "execution_count": 24,
      "metadata": {
        "colab": {
          "base_uri": "https://localhost:8080/"
        },
        "id": "BVWRvxBturM5",
        "outputId": "ccbce346-53fe-4558-8cbd-281f64bac201"
      },
      "outputs": [
        {
          "data": {
            "text/plain": [
              "[Document(metadata={'author': 'aristotle', 'knowledge': 'y'}, page_content=\"True happiness comes from gaining insight and growing into your best possible self. Otherwise all you're having is immediate gratification pleasure, which is fleeting and doesn't grow you as a person.\"),\n",
              " Document(metadata={'author': 'aristotle', 'education': 'y', 'knowledge': 'y'}, page_content='The roots of education are bitter, but the fruit is sweet.'),\n",
              " Document(metadata={'author': 'aristotle', 'ethics': 'y'}, page_content='Before you heal the body you must first heal the mind'),\n",
              " Document(metadata={'author': 'aristotle', 'education': 'y', 'knowledge': 'y'}, page_content='The proof that you know something is that you are able to teach it'),\n",
              " Document(metadata={'author': 'aristotle'}, page_content='Those who are not angry at the things they should be angry at are thought to be fools, and so are those who are not angry in the right way, at the right time, or with the right persons.'),\n",
              " Document(metadata={'author': 'aristotle', 'education': 'y', 'knowledge': 'y'}, page_content='Whatever we learn to do, we learn by actually doing it; men come to be builders, for instance, by building, and harp players by playing the harp. In the same way, by doing just acts we come to be just; by doing self-controlled acts, we come to be self-controlled ; and by doing brave acts, we become brave.'),\n",
              " Document(metadata={'author': 'aristotle'}, page_content='The greatest thing by far is to be a master of metaphor; it is the one thing that cannot be learned from others; and it is also a sign of genius, since a good metaphor implies an intuitive perception of the similarity of the dissimilar.'),\n",
              " Document(metadata={'author': 'aristotle', 'history': 'y', 'ethics': 'y', 'knowledge': 'y'}, page_content='The society that loses its grip on the past is in danger, for it produces men who know nothing but the present, and who are not aware that life had been, and could be, different from what it is.'),\n",
              " Document(metadata={'author': 'aristotle', 'knowledge': 'y', 'ethics': 'y'}, page_content='The man who is truly good and wise will bear with dignity whatever fortune sends, and will always make the best of his circumstances.'),\n",
              " Document(metadata={'author': 'aristotle', 'knowledge': 'y', 'education': 'y', 'history': 'y'}, page_content='The greatest of all pleasures is the pleasure of learning.'),\n",
              " Document(metadata={'author': 'aristotle'}, page_content='Fortune favours the bold.'),\n",
              " Document(metadata={'author': 'aristotle'}, page_content='You are what you repeatedly do'),\n",
              " Document(metadata={'author': 'aristotle'}, page_content='The quality of life is determined by its activities.'),\n",
              " Document(metadata={'author': 'aristotle'}, page_content='You are what you do repeatedly.'),\n",
              " Document(metadata={'author': 'aristotle'}, page_content='Anyone who has no need of anybody but himself is either a beast or a God.'),\n",
              " Document(metadata={'author': 'aristotle', 'love': 'y'}, page_content='Love is composed of a single soul inhabiting two bodies.'),\n",
              " Document(metadata={'author': 'aristotle', 'love': 'y', 'ethics': 'y'}, page_content='Love well, be loved and do something of value.'),\n",
              " Document(metadata={'author': 'aristotle'}, page_content='Philosophy begins with wonder.'),\n",
              " Document(metadata={'author': 'aristotle'}, page_content='Plato is my friend, but truth is a better friend.'),\n",
              " Document(metadata={'author': 'aristotle', 'ethics': 'y'}, page_content='At his best, man is the noblest of all animals; separated from law and justice he is the worst.'),\n",
              " Document(metadata={'author': 'aristotle', 'ethics': 'y'}, page_content='A promise made must be a promise kept.'),\n",
              " Document(metadata={'author': 'aristotle', 'politics': 'y', 'ethics': 'y'}, page_content='It is better for a city to be governed by a good man than by good laws.'),\n",
              " Document(metadata={'author': 'aristotle'}, page_content='Men become richer not only by increasing their existing wealth but also by decreasing their expenditure.'),\n",
              " Document(metadata={'author': 'aristotle', 'ethics': 'y'}, page_content='Consider pleasures as they depart, not as they come.'),\n",
              " Document(metadata={'author': 'aristotle', 'ethics': 'y'}, page_content='Dignity does not consist in possessing honors, but in deserving them.'),\n",
              " Document(metadata={'author': 'aristotle', 'knowledge': 'y', 'history': 'y', 'ethics': 'y', 'education': 'y'}, page_content='He who sees things grow from the beginning will have the best view of them.'),\n",
              " Document(metadata={'author': 'aristotle', 'ethics': 'y'}, page_content='Happiness is the reward of virtue.'),\n",
              " Document(metadata={'author': 'aristotle', 'history': 'y', 'knowledge': 'y'}, page_content='If you would understand anything, observe its beginning and its development'),\n",
              " Document(metadata={'author': 'aristotle'}, page_content='A friend is another I.'),\n",
              " Document(metadata={'author': 'aristotle', 'ethics': 'y'}, page_content='He who hath many friends hath none.'),\n",
              " Document(metadata={'author': 'aristotle'}, page_content='The hand is the tool of tools.'),\n",
              " Document(metadata={'author': 'aristotle', 'ethics': 'y'}, page_content='Good moral character is not something that we can achieve on our own. We need a culture that supports the conditions under which self-love and friendship flourish.'),\n",
              " Document(metadata={'author': 'aristotle', 'ethics': 'y'}, page_content='We give up leisure in order that we may have leisure, just as we go to war in order that we may have peace.'),\n",
              " Document(metadata={'author': 'aristotle', 'ethics': 'y', 'knowledge': 'y'}, page_content='We must be neither cowardly nor rash but courageous.'),\n",
              " Document(metadata={'author': 'aristotle', 'knowledge': 'y'}, page_content='The true nature of anything is what it becomes at its highest.'),\n",
              " Document(metadata={'author': 'aristotle', 'knowledge': 'y', 'ethics': 'y', 'politics': 'y'}, page_content=\"To give away money is an easy matter and in any man's power. But to decide to whom to give it and how large and when, and for what purpose and how, is neither in every man's power nor an easy matter.\"),\n",
              " Document(metadata={'author': 'aristotle', 'knowledge': 'y', 'ethics': 'y', 'education': 'y'}, page_content=\"A man's happiness consists in the free exercise of his highest faculties.\"),\n",
              " Document(metadata={'author': 'aristotle', 'knowledge': 'y', 'ethics': 'y', 'education': 'y'}, page_content='For what is the best choice for each individual is the highest it is possible for him to achieve.'),\n",
              " Document(metadata={'author': 'aristotle', 'ethics': 'y'}, page_content='Those who act receive the prizes.'),\n",
              " Document(metadata={'author': 'aristotle', 'love': 'y', 'ethics': 'y'}, page_content='A man becomes a friend whenever being loved he loves in return.'),\n",
              " Document(metadata={'author': 'aristotle'}, page_content='Character is that which reveals moral purpose, exposing the class of things a man chooses and avoids.'),\n",
              " Document(metadata={'author': 'aristotle', 'ethics': 'y'}, page_content='Bad men are full of repentance.'),\n",
              " Document(metadata={'author': 'aristotle', 'knowledge': 'y'}, page_content='For we do not think that we know a thing until we are acquainted with its primary conditions or first principles, and have carried our analysis as far as its simplest elements.'),\n",
              " Document(metadata={'author': 'aristotle', 'politics': 'y'}, page_content='Philosophy can make people sick.'),\n",
              " Document(metadata={'author': 'aristotle', 'politics': 'y', 'knowledge': 'y'}, page_content='Democracy appears to be safer and less liable to revolution than oligarchy. For in oligarchies there is the double danger of the oligarchs falling out among themselves and also with the people; but in democracies there is only the danger of a quarrel with the oligarchs. No dissension worth mentioning arises among the people themselves. And we may further remark that a government which is composed of the middle class more nearly approximates to democracy than to oligarchy, and is the safest of the imperfect forms of government.'),\n",
              " Document(metadata={'author': 'aristotle', 'ethics': 'y', 'politics': 'y'}, page_content='Civil confusions often spring from trifles but decide great issues.'),\n",
              " Document(metadata={'author': 'aristotle', 'knowledge': 'y', 'education': 'y'}, page_content='All men by nature desire knowledge.'),\n",
              " Document(metadata={'author': 'aristotle', 'politics': 'y', 'ethics': 'y'}, page_content='But is it just then that the few and the wealthy should be the rulers? And what if they, in like manner, rob and plunder the people, - is this just?'),\n",
              " Document(metadata={'author': 'aristotle'}, page_content='Definition of tragedy: A hero destroyed by the excess of his virtues'),\n",
              " Document(metadata={'author': 'aristotle'}, page_content='Every rascal is not a thief, but every thief is a rascal.'),\n",
              " Document(metadata={'author': 'schopenhauer'}, page_content='It is difficult to find happiness within oneself, but it is impossible to find it anywhere else.'),\n",
              " Document(metadata={'author': 'schopenhauer', 'knowledge': 'y'}, page_content='A high degree of intellect tends to make a man unsocial.'),\n",
              " Document(metadata={'author': 'schopenhauer', 'ethics': 'y'}, page_content='It is difficult to keep quiet if you have nothing to do'),\n",
              " Document(metadata={'author': 'schopenhauer'}, page_content='The assumption that animals are without rights, and the illusion that our treatment of them has no moral significance, is a positively outrageous example of Western crudity and barbarity. Universal compassion is the only guarantee of morality.'),\n",
              " Document(metadata={'author': 'schopenhauer', 'knowledge': 'y', 'ethics': 'y'}, page_content='I observed once to Goethe that when a friend is with us we do not think the same of him as when he is away. He replied, \"Yes! because the absent friend is yourself, and he exists only in your head; whereas the friend who is present has an individuality of his own, and moves according to laws of his own, which cannot always be in accordance with those which you form for yourself.'),\n",
              " Document(metadata={'author': 'schopenhauer', 'ethics': 'y', 'knowledge': 'y'}, page_content='Every man takes the limits of his own field of vision for the limits of the world.'),\n",
              " Document(metadata={'author': 'schopenhauer', 'knowledge': 'y'}, page_content='Thus, the task is not so much to see what no one yet has seen, but to think what nobody yet has thought about that which everybody sees.'),\n",
              " Document(metadata={'author': 'schopenhauer'}, page_content=\"Pleasure is never as pleasant as we expected it to be and pain is always more painful. The pain in the world always outweighs the pleasure. If you don't believe it, compare the respective feelings of two animals, one of which is eating the other.\"),\n",
              " Document(metadata={'author': 'schopenhauer', 'history': 'y'}, page_content='at the death of every friendly soul'),\n",
              " Document(metadata={'author': 'schopenhauer'}, page_content='arises from the feeling that there is'),\n",
              " Document(metadata={'author': 'schopenhauer', 'knowledge': 'y', 'ethics': 'y'}, page_content='To be alone is the fate of all great mindsa fate deplored at times, but still always chosen as the less grievous of two evils.'),\n",
              " Document(metadata={'author': 'schopenhauer', 'knowledge': 'y', 'education': 'y'}, page_content='However, for the man who studies to gain insight, books and studies are merely rungs of the ladder on which he climbs to the summit of knowledge. As soon as a rung has raised him up one step, he leaves it behind. On the other hand, the many who study in order to fill their memory do not use the rungs of the ladder for climbing, but take them off and load themselves with them to take away, rejoicing at the increasing weight of the burden. They remain below forever, because they bear what should have bourne them.'),\n",
              " Document(metadata={'author': 'schopenhauer', 'ethics': 'y', 'religion': 'y'}, page_content='There is not a grain of dust, not an atom that can become nothing, yet man believes that death is the annhilation of his being.'),\n",
              " Document(metadata={'author': 'schopenhauer', 'ethics': 'y'}, page_content='Human life, like all inferior goods, is covered on the outside with a false glitter; what suffers always conceals itself.'),\n",
              " Document(metadata={'author': 'schopenhauer', 'knowledge': 'y', 'ethics': 'y'}, page_content='Just as one spoils the stomach by overfeeding and thereby impairs the whole body, so can one overload and choke the mind by giving it too much nourishment. For the more one reads the fewer are the traces left of what one has read; the mind is like a tablet that has been written over and over. Hence it is impossible to reflect; and it is only by reflection that one can assimilate what one has read. If one reads straight ahead without pondering over it later, what has been read does not take root, but is for the most part lost.'),\n",
              " Document(metadata={'author': 'schopenhauer'}, page_content='The highest, most varied and lasting pleasures are those of the mind.'),\n",
              " Document(metadata={'author': 'schopenhauer', 'knowledge': 'y', 'ethics': 'y'}, page_content='We seldom speak of what we have but often of what we lack.'),\n",
              " Document(metadata={'author': 'schopenhauer'}, page_content='Patriotism is the passion of fools and the most foolish of passions.'),\n",
              " Document(metadata={'author': 'schopenhauer', 'ethics': 'y', 'education': 'y'}, page_content='Truth that is naked is the most beautiful, and the simpler its expression the deeper is the impression it makes.'),\n",
              " Document(metadata={'author': 'schopenhauer'}, page_content='Restlessness is the hallmark of existence.'),\n",
              " Document(metadata={'author': 'schopenhauer'}, page_content='Men best show their character in trifles, where they are not on their guard. It is in the simplest habits, that we often see the boundless egotism which pays no regard to the feelings of others and denies nothing to itself.'),\n",
              " Document(metadata={'author': 'schopenhauer'}, page_content=\"Because Christian morality leaves animals out of account, they are at once outlawed in philosophical morals; they are mere 'things,' mere means to any ends whatsoever. They can therefore be used for vivisection, hunting, coursing, bullfights, and horse racing, and can be whipped to death as they struggle along with heavy carts of stone. Shame on such a morality that is worthy of pariahs, and that fails to recognize the eternal essence that exists in every living thing, and shines forth with inscrutable significance from all eyes that see the sun!\"),\n",
              " Document(metadata={'author': 'schopenhauer', 'ethics': 'y'}, page_content='Whoever wants his judgment to be believed, should express it coolly and dispassionately; for all vehemence springs from the will. And so the judgment might be attributed to the will and not to knowledge, which by its nature is cold.'),\n",
              " Document(metadata={'author': 'schopenhauer', 'ethics': 'y'}, page_content='Our moral virtues benefit mainly other people; intellectual virtues, on the other hand, benefit primarily ourselves; therefore the former make us universally popular, the latter unpopular.'),\n",
              " Document(metadata={'author': 'schopenhauer', 'education': 'y', 'ethics': 'y'}, page_content='The difficulty is to try and teach the multitude that something can be true and untrue at the same time.'),\n",
              " Document(metadata={'author': 'schopenhauer'}, page_content='Life to the great majority is only a constant struggle for mere existence, with the certainty of losing it at last.'),\n",
              " Document(metadata={'author': 'schopenhauer', 'history': 'y', 'knowledge': 'y'}, page_content='The scenes and events of long ago, and the persons who took part in them, wear a charming aspect to the eye of memory, which sees only the outlines and takes no note of disagreeable details. The present enjoys no such advantage, and so it always seems defective.'),\n",
              " Document(metadata={'author': 'schopenhauer'}, page_content='The effect of music is so very much more powerful and penetrating than is that of the other arts, for these others speak only of the shadow, but music of the essence.'),\n",
              " Document(metadata={'author': 'schopenhauer', 'knowledge': 'y', 'ethics': 'y'}, page_content=\"To become indignant at [people's] conduct is as foolish as to be angry with a stone because it rolls into your path. And with many people the wisest thing you can do, is to resolve to make use of those whom you cannot alter.\"),\n",
              " Document(metadata={'author': 'schopenhauer'}, page_content='Necessity is the constant scourge of the lower classes, ennui of the higher ones.'),\n",
              " Document(metadata={'author': 'schopenhauer', 'ethics': 'y', 'knowledge': 'y'}, page_content=\"It is most important to allow the brain the full measure of sleep which is required to restore it; for sleep is to a man's whole nature what winding up is to a clock.\"),\n",
              " Document(metadata={'author': 'schopenhauer'}, page_content='It is with trifles, and when he is off guard, that a man best reveals his character.'),\n",
              " Document(metadata={'author': 'schopenhauer'}, page_content='A man of business will often deceive you without the slightest scruple, but he will absolutely refuse to commit a theft.'),\n",
              " Document(metadata={'author': 'schopenhauer', 'ethics': 'y'}, page_content='The ultimate foundation of honor is the conviction that moral character is unalterable: a single bad action implies that future actions of the same kind will, under similar circumstances, also be bad.'),\n",
              " Document(metadata={'author': 'schopenhauer'}, page_content=\"I've never known any trouble than an hour's reading didn't assuage.\"),\n",
              " Document(metadata={'author': 'schopenhauer', 'ethics': 'y'}, page_content='What makes people hard-hearted is this, that each man has, or fancies he has, as much as he can bear in his own troubles.'),\n",
              " Document(metadata={'author': 'schopenhauer', 'ethics': 'y'}, page_content='A good supply of resignation is of the first importance in providing for the journey of life.'),\n",
              " Document(metadata={'author': 'schopenhauer', 'ethics': 'y'}, page_content='To desire immortality for the individual is really the same as wanting to perpetuate an error forever.'),\n",
              " Document(metadata={'author': 'schopenhauer'}, page_content='The cause of laughter is simply the sudden perception of the incongruity between a concept and the real project.'),\n",
              " Document(metadata={'author': 'schopenhauer', 'knowledge': 'y', 'love': 'y'}, page_content='He who can see truly in the midst of general infatuation is like a man whose watch keeps good time, when all clocks in the town in which he lives are wrong. He alone knows the right time; what use is that to him?'),\n",
              " Document(metadata={'author': 'schopenhauer', 'ethics': 'y'}, page_content='If a person is stupid, we excuse him by saying that he cannot help it; but if we attempted to excuse in precisely the same way the person who is bad, we should be laughed at.'),\n",
              " Document(metadata={'author': 'schopenhauer'}, page_content='My body and my will are one.'),\n",
              " Document(metadata={'author': 'schopenhauer', 'education': 'y'}, page_content='The ordinary method of education is to imprint ideas and opinions, in the strict sense of the word, prejudices, on the mind of the child, before it has had any but a very few particular observations. It is thus that he afterwards comes to view the world and gather experience through the medium of those ready-made ideas, rather than to let his ideas be formed for him out of his own experience of life, as they ought to be.'),\n",
              " Document(metadata={'author': 'schopenhauer', 'knowledge': 'y', 'ethics': 'y', 'education': 'y'}, page_content='One can never read too little of bad, or too much of good books: bad books are intellectual poison; they destroy the mind. In order to read what is good one must make it a condition never to read what is bad; for life is short, and both time and strength limited.'),\n",
              " Document(metadata={'author': 'schopenhauer', 'knowledge': 'y', 'education': 'y', 'ethics': 'y'}, page_content=\"Many undoubtedly owe their good fortune to the circumstance that they possess a pleasing smile with which they win hearts. Yet these hearts would do better to beware and to learn from Hamlet's tables that one may smile, and smile, and be a villain.\"),\n",
              " Document(metadata={'author': 'schopenhauer', 'knowledge': 'y', 'ethics': 'y'}, page_content='In the blessings as well as in the ills of life, less depends upon what befalls us than upon the way in which it is met.'),\n",
              " Document(metadata={'author': 'schopenhauer', 'knowledge': 'y', 'ethics': 'y', 'education': 'y', 'history': 'y', 'love': 'y'}, page_content=\"It is only a man's own fundamental thoughts that have truth and life in them. For it is these that he really and completely understands. To read the thoughts of others is like taking the remains of someone else's meal, like putting on the discarded clothes of a stranger.\"),\n",
              " Document(metadata={'author': 'schopenhauer'}, page_content='There is no absurdity so palpable but that it may be firmly planted in the human head if you only begin to inculcate it before the age of five, by constantly repeating it with an air of great solemnity.'),\n",
              " Document(metadata={'author': 'schopenhauer', 'ethics': 'y'}, page_content='Thus also every keen pleasure is an error and an illusion, for no attained wish can give lasting satisfaction.'),\n",
              " Document(metadata={'author': 'schopenhauer'}, page_content='It is a clumsy experiment to make; for it involves the destruction of the very consciousness which puts the question and awaits the answer.'),\n",
              " Document(metadata={'author': 'spinoza'}, page_content='Nothing in nature is by chance... Something appears to be chance only because of our lack of knowledge.'),\n",
              " Document(metadata={'author': 'spinoza', 'ethics': 'y'}, page_content='When a man is prey to his emotions, he is not his own master.'),\n",
              " Document(metadata={'author': 'spinoza', 'love': 'y', 'knowledge': 'y', 'education': 'y'}, page_content='The more clearly you understand yourself and your emotions, the more you become a lover of what is.'),\n",
              " Document(metadata={'author': 'spinoza', 'politics': 'y'}, page_content='He who seeks equality between unequals seeks an absurdity.'),\n",
              " Document(metadata={'author': 'spinoza', 'education': 'y', 'knowledge': 'y'}, page_content=\"Academies that are founded at public expense are instituted not so much to cultivate men's natural abilities as to restrain them.\"),\n",
              " Document(metadata={'author': 'spinoza', 'love': 'y'}, page_content='Hatred is increased by being reciprocated, and can on the other hand be destroyed by love.'),\n",
              " Document(metadata={'author': 'spinoza', 'politics': 'y'}, page_content='Big fish eat small fish with as much right as they have power.'),\n",
              " Document(metadata={'author': 'spinoza', 'ethics': 'y'}, page_content='Indulge yourself in pleasures only in so far as they are necessary for the preservation of health.'),\n",
              " Document(metadata={'author': 'spinoza', 'religion': 'y'}, page_content='[Believers] are but triflers who, when they cannot explain a thing, run back to the will of God; this is, truly, a ridiculous way of expressing ignorance.'),\n",
              " Document(metadata={'author': 'spinoza', 'ethics': 'y'}, page_content='Let unswerving integrity be your watchword.'),\n",
              " Document(metadata={'author': 'spinoza', 'knowledge': 'y', 'education': 'y', 'ethics': 'y'}, page_content='I have made a ceaseless effort not to ridicule, not to bewail, not to scorn human actions, but to understand them.'),\n",
              " Document(metadata={'author': 'spinoza'}, page_content=\"Sadness diminishes a man's powers\"),\n",
              " Document(metadata={'author': 'spinoza'}, page_content='What everyone wants from life is continuous and genuine happiness.'),\n",
              " Document(metadata={'author': 'spinoza', 'ethics': 'y'}, page_content='Nature is satisfied with little; and if she is, I am also.'),\n",
              " Document(metadata={'author': 'spinoza', 'ethics': 'y', 'religion': 'y', 'love': 'y', 'knowledge': 'y'}, page_content='He who loves God cannot endeavor that God should love him in return.'),\n",
              " Document(metadata={'author': 'spinoza', 'politics': 'y'}, page_content='Laws which prescribe what everyone must believe, and forbid men to say or write anything against this or that opinion, are often passed to gratify, or rather to appease the anger of those who cannot abide independent minds.'),\n",
              " Document(metadata={'author': 'spinoza'}, page_content='Further conceive, I beg, that a stone, while continuing in motion, should be capable of thinking and knowing, that it is endeavoring, as far as it can, to continue to move. Such a stone, being conscious merely of its own endeavor and not at all indifferent, would believe itself to be completely free, and would think that it continued in motion solely because of its own wish. This is that human freedom, which all boast that they possess, and which consists solely in the fact, that men are conscious of their own desire, but are ignorant of the causes whereby that desire has been determined.'),\n",
              " Document(metadata={'author': 'spinoza', 'religion': 'y'}, page_content='The supreme mystery of despotism, its prop and stay, is to keep men in a state of deception, and with the specious title of religion to cloak the fear by which they must be held in check, so that they will fight for their servitude as if for salvation.'),\n",
              " Document(metadata={'author': 'spinoza', 'ethics': 'y', 'knowledge': 'y'}, page_content='the ultimate aim of government is not to rule, or restrain by fear, nor to exact obedience, but to free every man from fear that he may live in all possible security... In fact the true aim of government is liberty.'),\n",
              " Document(metadata={'author': 'spinoza'}, page_content='Everything excellent is as difficult as it is rare.'),\n",
              " Document(metadata={'author': 'spinoza'}, page_content='Everything in nature is a cause from which there flows some effect.'),\n",
              " Document(metadata={'author': 'spinoza'}, page_content='Blessed are the weak who think that they are good because they have no claws.'),\n",
              " Document(metadata={'author': 'spinoza', 'religion': 'y'}, page_content='God is the indwelling and not the transient cause of all things.'),\n",
              " Document(metadata={'author': 'spinoza', 'politics': 'y'}, page_content='The greatest secret of monarchic rule...is to keep men deceived and to cloak in the specious name of religion the fear by which they must be checked, so that they will fight for slavery as they would for salvation, and will think it not shameful, but a most honorable achievement, to give their life and blood that one man may have a ground for boasting.'),\n",
              " Document(metadata={'author': 'spinoza'}, page_content='All is One (Nature, God)'),\n",
              " Document(metadata={'author': 'spinoza', 'religion': 'y'}, page_content='Faith is nothing but obedience and piety.'),\n",
              " Document(metadata={'author': 'spinoza', 'knowledge': 'y', 'education': 'y', 'history': 'y', 'ethics': 'y'}, page_content='The more intelligible a thing is, the more easily it is retained in the memory, and counterwise, the less intelligible it is, the more easily we forget it.'),\n",
              " Document(metadata={'author': 'spinoza'}, page_content='Those who wish to seek out the cause of miracles and to understand the things of nature as philosophers, and not to stare at them in astonishment like fools, are soon considered heretical and impious, and proclaimed as such by those whom the mob adores as the interpreters of nature and the gods.'),\n",
              " Document(metadata={'author': 'spinoza'}, page_content='It is usually the case with most men that their nature is so constituted that they pity those who fare badly and envy those who fare well.'),\n",
              " Document(metadata={'author': 'spinoza'}, page_content='Fame has also this great drawback, that if we pursue it, we must direct our lives so as to please the fancy of men.'),\n",
              " Document(metadata={'author': 'spinoza'}, page_content='In the mind there is no absolute or free will.'),\n",
              " Document(metadata={'author': 'spinoza'}, page_content='None are more taken in by flattery than the proud, who wish to be the first and are not.'),\n",
              " Document(metadata={'author': 'spinoza', 'knowledge': 'y', 'education': 'y', 'ethics': 'y'}, page_content='I have tried sedulously not to laugh at the acts of man, nor to lament them, nor to detest them, but to understand them.'),\n",
              " Document(metadata={'author': 'spinoza', 'religion': 'y', 'knowledge': 'y', 'ethics': 'y'}, page_content='Nothing in the universe is contingent, but all things are conditioned to exist and operate in a particular manner by the necessity of the divine nature.'),\n",
              " Document(metadata={'author': 'spinoza', 'ethics': 'y'}, page_content='If men were born free, they would, so long as they remained free, form no conception of good and evil.'),\n",
              " Document(metadata={'author': 'spinoza', 'knowledge': 'y', 'ethics': 'y'}, page_content='In so far as the mind sees things in their eternal aspect, it participates in eternity.'),\n",
              " Document(metadata={'author': 'spinoza', 'knowledge': 'y', 'ethics': 'y'}, page_content='them.'),\n",
              " Document(metadata={'author': 'spinoza'}, page_content='Many errors, of a truth, consist merely in the application of the wrong names of things.'),\n",
              " Document(metadata={'author': 'spinoza'}, page_content='.... we are a part of nature as a whole, whose order we follow.'),\n",
              " Document(metadata={'author': 'spinoza', 'ethics': 'y', 'politics': 'y', 'knowledge': 'y'}, page_content='Men will find that they can ... avoid far more easily the perils which beset them on all sides by united action.'),\n",
              " Document(metadata={'author': 'spinoza'}, page_content='The order and connection of ideas is the same as the order and connection of things.'),\n",
              " Document(metadata={'author': 'spinoza'}, page_content='Desire is the essence of a man.'),\n",
              " Document(metadata={'author': 'spinoza', 'love': 'y'}, page_content='Love is pleasure accompanied by the idea of an external cause, and hatred pain accompanied by the idea of an external cause.'),\n",
              " Document(metadata={'author': 'spinoza'}, page_content='He that can carp in the most eloquent or acute manner at the weakness of the human mind is held by his fellows as almost divine.'),\n",
              " Document(metadata={'author': 'spinoza'}, page_content='Emotion, which is suffering, ceases to be suffering as soon as we form a clear and precise picture of it.'),\n",
              " Document(metadata={'author': 'spinoza', 'knowledge': 'y', 'ethics': 'y', 'politics': 'y'}, page_content='Better that right counsels be known to enemies than that the evil secrets of tyrants should be concealed from the citizens. They who can treat secretly of the affairs of a nation have it absolutely under their authority; and as they plot against the enemy in time of war, so do they against the citizens in time of peace.'),\n",
              " Document(metadata={'author': 'spinoza', 'history': 'y'}, page_content='A man is as much affected pleasurably or painfully by the image of a thing past or future as by the image of a thing present.'),\n",
              " Document(metadata={'author': 'spinoza', 'ethics': 'y'}, page_content='Love or hatred towards a thing, which we conceive to be free, must, other things being similar, be greater than if it were felt towards a thing acting by necessity.'),\n",
              " Document(metadata={'author': 'spinoza', 'ethics': 'y'}, page_content='Only that thing is free which exists by the necessities of its own nature, and is determined in its actions by itself alone.'),\n",
              " Document(metadata={'author': 'spinoza'}, page_content=\"Men would never be superstitious, if they could govern all their circumstances by set rules, or if they were always favoured by fortune: but being frequently driven into straits where rules are useless, and being often kept fluctuating pitiably between hope and fear by the uncertainty of fortune's greedily coveted favours, they are consequently for the most part, very prone to credulity.\"),\n",
              " Document(metadata={'author': 'hegel', 'history': 'y', 'knowledge': 'y'}, page_content='We learn from history that we do not learn from history'),\n",
              " Document(metadata={'author': 'hegel', 'ethics': 'y', 'education': 'y'}, page_content='To be independent of public opinion is the first formal condition of achieving anything great.'),\n",
              " Document(metadata={'author': 'hegel', 'ethics': 'y'}, page_content='To be aware of limitations is already to be beyond them.'),\n",
              " Document(metadata={'author': 'hegel', 'history': 'y'}, page_content='What history teaches us is that neither nations nor governments ever learn anything from it.'),\n",
              " Document(metadata={'author': 'hegel', 'ethics': 'y', 'education': 'y'}, page_content='The valor that struggles is better than the weakness that endures.'),\n",
              " Document(metadata={'author': 'hegel', 'knowledge': 'y', 'education': 'y', 'ethics': 'y', 'history': 'y'}, page_content='The more certain our knowledge the less we know.'),\n",
              " Document(metadata={'author': 'hegel', 'politics': 'y'}, page_content='In a true tragedy, both parties must be right.'),\n",
              " Document(metadata={'author': 'hegel', 'history': 'y'}, page_content='Before the end of Time will be the end of History. Before the end of History will be the end of Art.'),\n",
              " Document(metadata={'author': 'hegel', 'ethics': 'y', 'knowledge': 'y'}, page_content='Poverty in itself does not make men into a rabble; a rabble is created only when there is joined to poverty a disposition of mind, an inner indignation against the rich, against society, against the government.'),\n",
              " Document(metadata={'author': 'hegel', 'education': 'y', 'knowledge': 'y', 'history': 'y', 'ethics': 'y'}, page_content='The learner always begins by finding fault, but the scholar sees the positive merit in everything.'),\n",
              " Document(metadata={'author': 'hegel'}, page_content='An idea is always a generalization, and generalization is a property of thinking. To generalize means to think.'),\n",
              " Document(metadata={'author': 'hegel'}, page_content='Genuine tragedy is a case not of right against wrong but of right against right - two equally justified ethical principles embodied in people of unchangeable will.'),\n",
              " Document(metadata={'author': 'hegel', 'knowledge': 'y', 'history': 'y'}, page_content=\"America is therefore the land of the future, where, in the ages that lie before us, the burden of the World's History shall reveal itself.\"),\n",
              " Document(metadata={'author': 'hegel', 'history': 'y'}, page_content='The history of the world is none other than the progress of the , consciousness of freedom.'),\n",
              " Document(metadata={'author': 'hegel'}, page_content='Beauty is merely the Spiritual making itself known sensuously.'),\n",
              " Document(metadata={'author': 'hegel', 'education': 'y', 'ethics': 'y', 'knowledge': 'y'}, page_content='All education is the art of making men ethical (sittlich), of transforming the old Adam into the new Adam.'),\n",
              " Document(metadata={'author': 'hegel', 'ethics': 'y'}, page_content='Impatience asks for the impossible, wants to reach the goal without the means of getting there. The length of the journey has to be borne with, for every moment is necessary.'),\n",
              " Document(metadata={'author': 'hegel', 'ethics': 'y'}, page_content='It is solely by risking life that freedom is obtained; . . . the individual who has not staked his or her life may, no doubt, be recognized as a Person; but he or she has not attained the truth of this recognition as an independent self-consciousness.'),\n",
              " Document(metadata={'author': 'hegel'}, page_content='To make abstractions hold in reality is to destroy reality.'),\n",
              " Document(metadata={'author': 'hegel'}, page_content='Philosophy is by its nature something esoteric, neither made for the mob nor capable of being prepared for the mob.'),\n",
              " Document(metadata={'author': 'hegel', 'history': 'y'}, page_content='We learn from history that man can never learn anything from history.'),\n",
              " Document(metadata={'author': 'hegel', 'ethics': 'y'}, page_content='Freedom is the fundamental character of the will, as weight is of matter... That which is free is the will. Will without freedom is an empty word.'),\n",
              " Document(metadata={'author': 'hegel', 'politics': 'y'}, page_content='The people are that part of the state that does not know what it wants.'),\n",
              " Document(metadata={'author': 'hegel', 'knowledge': 'y'}, page_content='We do not need to be shoemakers to know if our shoes fit, and just as little have we any need to be professionals to acquire knowledge of matters of universal interest.'),\n",
              " Document(metadata={'author': 'hegel', 'history': 'y'}, page_content='World history is a court of judgment.'),\n",
              " Document(metadata={'author': 'hegel', 'ethics': 'y'}, page_content='The length of the journey has to be borne with, for every moment is necessary.'),\n",
              " Document(metadata={'author': 'hegel'}, page_content='The True is the whole. But the whole is nothing other than the essence consummating itself through its development. Of the Absolute it must be said that it is essentially a result, that only in the end is it what it truly is; and that precisely in this consists its nature, viz. to be actual, subject, the spontaneous becoming of itself.'),\n",
              " Document(metadata={'author': 'hegel', 'history': 'y'}, page_content='Regarding History as the slaughter-bench at which the happiness of peoples, the wisdom of States, and the virtue of individuals have been victimized--the question involuntarily arises--to what principle, to what final aim these enormous sacrifices have been offered.'),\n",
              " Document(metadata={'author': 'hegel', 'history': 'y', 'religion': 'y'}, page_content='The proofs of the existence of God are to such an extent fallen into discredit that they pass for something antiquated, belonging to days gone by.'),\n",
              " Document(metadata={'author': 'hegel'}, page_content=\"The bud disappears when the blossom breaks through, and we might say that the former is refuted by the latter; in the same way when the fruit comes, the blossom may be explained to be a false form of the plant's existence, for the fruit appears as its true nature in place of the blossom.\"),\n",
              " Document(metadata={'author': 'hegel', 'ethics': 'y', 'politics': 'y', 'knowledge': 'y'}, page_content='The true courage of civilized nations is readiness for sacrifice in the service of the state, so that the individual counts as only one amongst many. The important thing here is not personal mettle but aligning oneself with the universal.'),\n",
              " Document(metadata={'author': 'hegel'}, page_content='The heart-throb for the welfare of humanity therefore passes into the ravings of an insane self-conceit, into the fury of consciousness to preserve itself from destruction; and it does this by expelling from itself the perversion which it is itself, and by striving to look on it and express it as something else.'),\n",
              " Document(metadata={'author': 'hegel', 'religion': 'y', 'politics': 'y', 'history': 'y', 'ethics': 'y'}, page_content='The Catholics had been in the position of oppressors, and the Protestants of the oppressed'),\n",
              " Document(metadata={'author': 'hegel', 'knowledge': 'y', 'ethics': 'y'}, page_content='To him who looks upon the world rationally, the world in its turn presents a rational aspect. The relation is mutual.'),\n",
              " Document(metadata={'author': 'hegel'}, page_content='Propounding peace and love without practical or institutional engagement is delusion, not virtue.'),\n",
              " Document(metadata={'author': 'hegel', 'knowledge': 'y'}, page_content='It strikes everyone in beginning to form an acquaintance with the treasures of Indian literature that a land so rich in intellectual products and those of the profoundest order of thought.'),\n",
              " Document(metadata={'author': 'hegel', 'knowledge': 'y', 'ethics': 'y', 'education': 'y', 'politics': 'y'}, page_content='The people will learn to feel the dignity of man. They will not merely demand their rights, which have been trampled in the dust, but themselves will take them - make them their own.'),\n",
              " Document(metadata={'author': 'hegel'}, page_content='It is easier to discover a deficiency in individuals, in states, and in Providence, than to see their real import and value.'),\n",
              " Document(metadata={'author': 'hegel', 'ethics': 'y'}, page_content='Children are potentially free and their life directly embodies nothing save potential freedom. Consequently they are not things and cannot be the property either of their parents or others.'),\n",
              " Document(metadata={'author': 'hegel'}, page_content='When liberty is mentioned, we must always be careful to observe whether it is not really the assertion of private interests which is thereby designated.'),\n",
              " Document(metadata={'author': 'hegel'}, page_content='It is because the method of physics does not satisfy the comprehension that we have to go on further.'),\n",
              " Document(metadata={'author': 'hegel'}, page_content='Consequently, the sensuous aspect of art is related only to the two theoretical sensesof sight and hearing, while smell, taste, and touch remain excluded.'),\n",
              " Document(metadata={'author': 'hegel', 'politics': 'y'}, page_content='Once the state has been founded, there can no longer be any heroes. They come on the scene only in uncivilized conditions.'),\n",
              " Document(metadata={'author': 'hegel'}, page_content='The essence of the modern state is that the universal be bound up with the complete freedom of its particular members and with private well-being, that thus the interests of family and civil society must concentrate themselves on the state. It is only when both these moments subsist in their strength that the state can be regarded as articulated and genuinely organized.'),\n",
              " Document(metadata={'author': 'hegel', 'ethics': 'y'}, page_content='Animals are in possession of themselves; their soul is in possession of their body. But they have no right to their life, because they do not will it.'),\n",
              " Document(metadata={'author': 'hegel'}, page_content='The State is the Divine idea as it exists on Earth.'),\n",
              " Document(metadata={'author': 'hegel', 'knowledge': 'y', 'education': 'y', 'history': 'y'}, page_content=\"In the case of various kinds of knowledge, we find that what in former days occupied the energies of men of mature mental ability sinks to the level of information, exercises, and even pastimes for children; and in this educational progress we can see the history of the world's culture delineated in faint outline.\"),\n",
              " Document(metadata={'author': 'hegel', 'knowledge': 'y'}, page_content='Every philosophy is complete in itself and, like a genuine work of art, contains the totality. Just as the works of Apelles and Sophocles, if Raphael and Shakespeare had known them, should not have appeared to them as mere preliminary exercises for their own work, but rather as a kindred force of the spirit, so, too reason cannot find in its own earlier forms mere useful preliminary exercises for itself.'),\n",
              " Document(metadata={'author': 'hegel', 'love': 'y'}, page_content='We assert then that nothing has been accomplished without interest on the part of the actors; and  if interest be called passion, inasmuch as the whole individuality, to the neglect of all other actual or possible interests and claims, is devoted to an object with every fibre of volition, concentrating all its desires and powers upon it  we may affirm absolutely that nothing great in the World has been accomplished without passion.'),\n",
              " Document(metadata={'author': 'hegel', 'politics': 'y'}, page_content='The Few assume to be the deputies, but they are often only the despoilers of the Many.'),\n",
              " Document(metadata={'author': 'freud', 'history': 'y'}, page_content='We are what we are because we have been what we have been.'),\n",
              " Document(metadata={'author': 'freud'}, page_content='From error to error one discovers the entire truth.'),\n",
              " Document(metadata={'author': 'freud', 'love': 'y'}, page_content='Two hallmarks of a healthy life are the abilities to love and to work. Each requires imagination.'),\n",
              " Document(metadata={'author': 'freud', 'ethics': 'y'}, page_content='When someone abuses me I can defend myself, but against praise I am defenceless.'),\n",
              " Document(metadata={'author': 'freud'}, page_content='Not all men are worthy of love.'),\n",
              " Document(metadata={'author': 'freud'}, page_content='The meager satisfaction that man can extract from reality leaves him starving.'),\n",
              " Document(metadata={'author': 'freud', 'love': 'y'}, page_content='It is not attention that the child is seeking, but love.'),\n",
              " Document(metadata={'author': 'freud'}, page_content='The only unnatural sexual behavior is none at all.'),\n",
              " Document(metadata={'author': 'freud', 'ethics': 'y', 'knowledge': 'y'}, page_content='A woman should soften but not weaken a man.'),\n",
              " Document(metadata={'author': 'freud', 'knowledge': 'y'}, page_content='The psychoanalysis of individual human beings, however, teaches us with quite special insistence that the god of each of them is formed in the likeness of his father, that his personal relation to God depends on his relation to his father in the flesh and oscillates and changes along with that relation, and that at bottom God is nothing other than an exalted father.'),\n",
              " Document(metadata={'author': 'freud', 'love': 'y'}, page_content='When a love-relationship is at its height there is no room left for any interest in the environment; a pair of lovers are sufficient to themselves'),\n",
              " Document(metadata={'author': 'freud', 'love': 'y'}, page_content='All giving is asking, and all asking is an asking for love.'),\n",
              " Document(metadata={'author': 'freud', 'education': 'y', 'ethics': 'y'}, page_content='The news that reaches your consciousness is incomplete and often not to be relied on.... Turn your eyes inward, look into your own depths, learn first to know yourself!'),\n",
              " Document(metadata={'author': 'freud', 'religion': 'y'}, page_content='Perhaps the gods are kind to us, by making life more disagreeable as we grow older. In the end death seems less intolerable than the manifold burdens we carry'),\n",
              " Document(metadata={'author': 'freud'}, page_content='Anxiety in children is originally nothing other than an expression of the fact they are feeling the loss of the person they love.'),\n",
              " Document(metadata={'author': 'freud'}, page_content=\"I cannot think of any need in childhood as strong as the need for a father's protection.\"),\n",
              " Document(metadata={'author': 'freud', 'ethics': 'y'}, page_content='The virtuous man contents himself with dreaming that which the wicked man does in actual life.'),\n",
              " Document(metadata={'author': 'freud'}, page_content='The only shame in masturbation is the shame of not doing it well.'),\n",
              " Document(metadata={'author': 'freud', 'religion': 'y', 'knowledge': 'y'}, page_content='Philosophers stretch the meaning of words until they retain scarcely anything of their original sense. They give the name of \"God\" to some vague abstraction which they have created for themselves; having done so they can pose before all the world as deists, as believers of God, and they can even boast that they have recognized a higher, purer concept of God, notwithstanding that their God is not nothing more than an insubstantial shadow and no longer the mighty personality of religious doctrines.'),\n",
              " Document(metadata={'author': 'freud', 'religion': 'y'}, page_content=\"Religion originates in the child's and young mankind's fears and need for help. It cannot be otherwise.\"),\n",
              " Document(metadata={'author': 'freud', 'knowledge': 'y', 'ethics': 'y'}, page_content='Whatever fosters the growth of civilization works at the same time against war.'),\n",
              " Document(metadata={'author': 'freud', 'ethics': 'y'}, page_content='The doctor should be opaque to his patients and, like a mirror, should show them nothing but what is shown to him.'),\n",
              " Document(metadata={'author': 'freud', 'history': 'y'}, page_content='The first human who hurled an insult instead of a stone was the founder of civilization.'),\n",
              " Document(metadata={'author': 'freud'}, page_content='In mourning it is the world which has become poor and empty; in melancholia it is the ego itself.'),\n",
              " Document(metadata={'author': 'freud'}, page_content='This transmissibility of taboo is a reflection of the tendency, on which we have already remarked, for the unconscious instinct in the neurosis to shift constantly along associative paths on to new objects.'),\n",
              " Document(metadata={'author': 'freud', 'love': 'y'}, page_content=\"If a man has been his mother's undisputed darling he retains throughout life the triumphant feeling, the confidence in success, which not seldom brings actual success along with it.\"),\n",
              " Document(metadata={'author': 'freud', 'religion': 'y'}, page_content='Religion restricts the play of choice and adaptation, since it imposes equally on everyone its own path to the acquisition of happiness and protection from suffering. Its technique consists in depressing the value of life and distorting the picture of the real world in a delusional manner - which presupposes an intimidation of the intelligence. At this price, by forcibly fixing them in a state of psychical infantilism and by drawing them into a mass-delusion, religion succeeds in sparing many people an individual neurosis. But hardly anything more.'),\n",
              " Document(metadata={'author': 'freud'}, page_content='Sometimes a cigar is just a cigar.'),\n",
              " Document(metadata={'author': 'freud', 'religion': 'y'}, page_content='Where questions of religion are concerned, people are guilty of every possible sort of dishonesty and intellectual misdemeanor.'),\n",
              " Document(metadata={'author': 'freud', 'love': 'y'}, page_content='When we share - that is poetry in the prose of life.'),\n",
              " Document(metadata={'author': 'freud'}, page_content='Illusions commend themselves to us because they save us pain and allow us to enjoy pleasure instead. We must therefore accept it without complaint when they sometimes collide with a bit of reality against which they are dashed to pieces.'),\n",
              " Document(metadata={'author': 'freud'}, page_content='The world is no nursery.'),\n",
              " Document(metadata={'author': 'freud', 'religion': 'y'}, page_content='At bottom God is nothing more than an exalted father.'),\n",
              " Document(metadata={'author': 'freud'}, page_content='Analogies, it is true, decide nothing, but they can make one feel more at home.'),\n",
              " Document(metadata={'author': 'freud'}, page_content='Man has, as it were, become a kind of prosthetic God. When he puts on all his auxiliary organs, he is truly magnificent; but those organs have not grown on him and they still give him much trouble at times.'),\n",
              " Document(metadata={'author': 'freud', 'religion': 'y'}, page_content='The effect of the consolations of religion may be compared to that of a narcotic.'),\n",
              " Document(metadata={'author': 'freud', 'knowledge': 'y', 'ethics': 'y'}, page_content='It is no wonder if, under the pressure of these possibilities of suffering, men are accustomed to moderate their claims to happiness - just as the pleasure principle itself, indeed, under the influence of the external world, changed into the more modest reality principle -, if a man thinks himself happy merely to have escaped unhappiness or to have survived his suffering, and if in general the task of avoiding suffering pushes that of obtaining pleasure into the background.'),\n",
              " Document(metadata={'author': 'freud', 'politics': 'y'}, page_content='One... gets an impression that civilization is something which was imposed on a resisting majority by a minority which understood how to obtain possession of the means to power and coercion. It is, of course, natural to assume that these difficulties are not inherent in the nature of civilization itself but are determined by the imperfections of the cultural forms which have so far been developed.'),\n",
              " Document(metadata={'author': 'freud'}, page_content='[The child receives impressions like] a photographic exposure that can be developed after any interval of time and transformed into a picture.'),\n",
              " Document(metadata={'author': 'freud', 'ethics': 'y'}, page_content='The dream unites the grossest contradictions, permits impossibilities, sets aside the knowledge that influences us by day, and exposes us as ethically and morally obtuse.'),\n",
              " Document(metadata={'author': 'freud', 'love': 'y', 'ethics': 'y'}, page_content='Where such men love they have no desire and where they desire they cannot love'),\n",
              " Document(metadata={'author': 'freud', 'knowledge': 'y', 'education': 'y'}, page_content='I do not in the least underestimate bisexuality... I expect it to provide all further enlightenment.'),\n",
              " Document(metadata={'author': 'freud'}, page_content='To endure life remains, when all is said, the first duty of all living being Illusion can have no value if it makes this more difficult for us.'),\n",
              " Document(metadata={'author': 'freud'}, page_content='There is an intellectual function in us which demands unity, connection and intelligibility from any material, whether of perception or thought, that comes within its grasp; and if, as a result of special circumstances, it is unable to establish a true connection, it does not hesitate to fabricate a false one.'),\n",
              " Document(metadata={'author': 'freud'}, page_content='A string of reproaches against other people leads one to suspect the existence of a string of self-reproaches with the same content.'),\n",
              " Document(metadata={'author': 'freud', 'religion': 'y'}, page_content='When a man has once brought himself to accept uncritically all the absurdities that religious doctrines put before him and even to overlook the contradictions between them, we need not be greatly suprised at the weakness of his intellect.'),\n",
              " Document(metadata={'author': 'freud', 'knowledge': 'y'}, page_content='The rest of our enquiry is made easy because this God-Creator is openly called Father. Psycho-analysis concludes that he really is the father, clothed in the grandeur in which he once appeared to the small child.'),\n",
              " Document(metadata={'author': 'freud'}, page_content=\"The expectation that every neurotic phenomenon can be cured may, I suspect, be derived from the layman's belief that the neuroses are something quite unnecessary which have no right whatever to exist. Whereas in fact they are severe, constitutionally fixed illnesses, which rarely restrict themselves to only a few attacks but persist as a rule over long periods throughout life.\"),\n",
              " Document(metadata={'author': 'freud', 'religion': 'y', 'love': 'y', 'knowledge': 'y', 'ethics': 'y'}, page_content=\"Lead us, Heavenly Father, lead us O'er the world's tempestuous sea; Guard us, guide us, keep us, feed us, For we have no help but Thee.\"),\n",
              " Document(metadata={'author': 'freud', 'love': 'y'}, page_content='Towards the outside, at any rate, the ego seems to maintain clear and sharp lines of demarcation. There is only one state -- admittedly an unusual state, but not one that can be stigmatized as pathological -- in which it does not do this. At the height of being in love the boundary between ego and object threatens to melt away. Against all the evidence of his senses, a man who is in love declares that \"I\" and \"you\" are one, and is prepared to behave as if it were a fact.'),\n",
              " Document(metadata={'author': 'nietzsche', 'ethics': 'y', 'education': 'y', 'politics': 'y'}, page_content=\"Sometimes people don't want to hear the truth because they don't want their illusions destroyed.\"),\n",
              " Document(metadata={'author': 'nietzsche', 'ethics': 'y'}, page_content='To live is to suffer, to survive is to find some meaning in the suffering.'),\n",
              " Document(metadata={'author': 'nietzsche', 'ethics': 'y'}, page_content='Whoever fights monsters should see to it that in the process he does not become a monster. And if you gaze long enough into an abyss, the abyss will gaze back into you.'),\n",
              " Document(metadata={'author': 'nietzsche', 'knowledge': 'y', 'ethics': 'y'}, page_content='No price is too high to pay for the privilege of owning yourself.'),\n",
              " Document(metadata={'author': 'nietzsche', 'politics': 'y'}, page_content='Insanity in individuals is something rare - but in groups, parties, nations and epochs, it is the rule.'),\n",
              " Document(metadata={'author': 'nietzsche', 'politics': 'y', 'knowledge': 'y'}, page_content='Everything the State says is a lie, and everything it has it has stolen.'),\n",
              " Document(metadata={'author': 'nietzsche', 'ethics': 'y'}, page_content='The snake which cannot cast its skin has to die. As well the minds which are prevented from changing their opinions; they cease to be mind.'),\n",
              " Document(metadata={'author': 'nietzsche', 'ethics': 'y'}, page_content='Man is the only animal that must be encouraged to live.'),\n",
              " Document(metadata={'author': 'nietzsche'}, page_content='The secret of reaping the greatest fruitfulness and the greatest enjoyment from life is to live dangerously.'),\n",
              " Document(metadata={'author': 'nietzsche'}, page_content='It is not a lack of love, but a lack of friendship that makes unhappy marriages.'),\n",
              " Document(metadata={'author': 'nietzsche', 'knowledge': 'y'}, page_content='To predict the behavior of ordinary people in advance, you only have to assume that they will always try to escape a disagreeable situation with the smallest possible expenditure of intelligence.'),\n",
              " Document(metadata={'author': 'nietzsche', 'knowledge': 'y', 'ethics': 'y', 'politics': 'y', 'education': 'y'}, page_content=\"The Great Man... is colder, harder, less hesitating, and without fear of 'opinion'; he lacks the virtues that accompany respect and 'respectability,' and altogether everything that is the 'virtue of the herd.' If he cannot lead, he goes alone... He knows he is incommunicable: he finds it tasteless to be familiar... When not speaking to himself, he wears a mask. There is a solitude within him that is inaccessible to praise or blame.\"),\n",
              " Document(metadata={'author': 'nietzsche'}, page_content='The world is beautiful, but has a disease called man.'),\n",
              " Document(metadata={'author': 'nietzsche', 'ethics': 'y'}, page_content='Solitude makes us tougher towards ourselves and tenderer towards others. In both ways it improves our character.'),\n",
              " Document(metadata={'author': 'nietzsche', 'knowledge': 'y', 'love': 'y'}, page_content='Young people love what is interesting and odd, no matter how true or false it is. More mature minds love what is interesting and odd about truth. Fully mature intellects, finally, love truth, even when it appears plain and simple, boring to the ordinary person; for they have noticed that truth tends to reveal its highest wisdom in the guise of simplicity.'),\n",
              " Document(metadata={'author': 'nietzsche', 'ethics': 'y'}, page_content='The real question is: How much truth can I stand?'),\n",
              " Document(metadata={'author': 'nietzsche'}, page_content='The true man wants two things: danger and play. For that reason he wants woman, as the most dangerous plaything.'),\n",
              " Document(metadata={'author': 'nietzsche'}, page_content='There are no beautiful surfaces without a terrible depth.'),\n",
              " Document(metadata={'author': 'nietzsche', 'love': 'y'}, page_content='There is always some madness in love. But there is also always some reason in madness.'),\n",
              " Document(metadata={'author': 'nietzsche'}, page_content='There are horrible people who, instead of solving a problem, tangle it up and make it harder to solve for anyone who wants to deal with it. Whoever does not know how to hit the nail on the head should be asked not to hit it at all.'),\n",
              " Document(metadata={'author': 'nietzsche'}, page_content='What is the truth, but a lie agreed upon.'),\n",
              " Document(metadata={'author': 'nietzsche', 'knowledge': 'y', 'love': 'y'}, page_content='You know a moment is important when it is making your mind go numb with beauty.'),\n",
              " Document(metadata={'author': 'nietzsche', 'ethics': 'y'}, page_content='Invisible threads are the strongest ties.'),\n",
              " Document(metadata={'author': 'nietzsche', 'knowledge': 'y'}, page_content='The most spiritual men, as the strongest, find their happiness where others would find their destruction: in the labyrinth, in hardness against themselves and others, in experiments. Their joy is self-conquest: asceticism becomes in them nature, need, and instinct. Difficult tasks are a privilege to them; to play with burdens that crush others, a recreation. Knowledge-a form of asceticism. They are the most venerable kind of man: that does not preclude their being the most cheerful and the kindliest.'),\n",
              " Document(metadata={'author': 'nietzsche', 'education': 'y', 'knowledge': 'y'}, page_content='To learn to see- to accustom the eye to calmness, to patience, and to allow things to come up to it; to defer judgment, and to acquire the habit of approaching and grasping an individual case from all sides. This is the first preparatory schooling of intellectuality. One must not respond immediately to a stimulus; one must acquire a command of the obstructing and isolating instincts.'),\n",
              " Document(metadata={'author': 'nietzsche', 'ethics': 'y', 'knowledge': 'y'}, page_content='For what purpose humanity is there should not even concern us: why you are here, that you should ask yourself: and if you have no ready answer, then set for yourself goals, high and noble goals, and perish in pursuit of them!'),\n",
              " Document(metadata={'author': 'nietzsche', 'ethics': 'y'}, page_content='He who obeys, does not listen to himself!'),\n",
              " Document(metadata={'author': 'nietzsche', 'ethics': 'y'}, page_content='No journey is too great,'),\n",
              " Document(metadata={'author': 'nietzsche'}, page_content='In revenge and in love, woman is more barbarous than man.'),\n",
              " Document(metadata={'author': 'nietzsche', 'ethics': 'y'}, page_content='People are always angry at anyone who chooses very individual standards for his life; because of the extraordinary treatment which that man grants to himself, they feel degraded, like ordinary beings.'),\n",
              " Document(metadata={'author': 'nietzsche', 'politics': 'y', 'knowledge': 'y', 'ethics': 'y'}, page_content='Today as always, men fall into two groups: slaves and free men. Whoever does not have two-thirds of his day for himself, is a slave, whatever he may be: a statesman, a businessman, an official, or a scholar.'),\n",
              " Document(metadata={'author': 'nietzsche'}, page_content='Without music, life would be a mistake.'),\n",
              " Document(metadata={'author': 'nietzsche'}, page_content='All I need is a sheet of paper and something to write with, and then I can turn the world upside down.'),\n",
              " Document(metadata={'author': 'nietzsche', 'love': 'y', 'ethics': 'y'}, page_content='Ultimately, it is the desire, not the desired, that we love.'),\n",
              " Document(metadata={'author': 'nietzsche'}, page_content='What is evil?-Whatever springs from weakness.'),\n",
              " Document(metadata={'author': 'nietzsche', 'ethics': 'y'}, page_content='Beware of spitting against the wind!'),\n",
              " Document(metadata={'author': 'nietzsche'}, page_content='Deception, flattering, lying, deluding, talking behind the back, putting up a false front, living in borrowed splendor, wearing a mask, hiding behind convention, playing a role for others and for oneself -- in short, a continuous fluttering around the solitary flame of vanity -- is so much the rule and the law among men that there is almost nothing which is less comprehensible than how an honest and pure drive for truth could have arisen among them.'),\n",
              " Document(metadata={'author': 'nietzsche', 'love': 'y', 'education': 'y'}, page_content='the voice of beauty speaks softly; it creeps only into the most fully awakened souls'),\n",
              " Document(metadata={'author': 'nietzsche', 'ethics': 'y'}, page_content='Everyone needs a sense of shame, but no one needs to feel ashamed.'),\n",
              " Document(metadata={'author': 'nietzsche', 'ethics': 'y', 'knowledge': 'y'}, page_content='There exists above the \"productive\" man a yet higher species.'),\n",
              " Document(metadata={'author': 'nietzsche'}, page_content='For a tree to become tall it must grow tough roots among the rocks.'),\n",
              " Document(metadata={'author': 'nietzsche', 'knowledge': 'y', 'ethics': 'y', 'education': 'y'}, page_content='The man of knowledge must be able not only to love his enemies but also to hate his friends.'),\n",
              " Document(metadata={'author': 'nietzsche', 'knowledge': 'y'}, page_content='The growth of wisdom may be gauged exactly by the diminution of ill-temper.'),\n",
              " Document(metadata={'author': 'nietzsche'}, page_content='Most people are too stupid to act in their own interest'),\n",
              " Document(metadata={'author': 'nietzsche'}, page_content='The visionary lies to himself, the liar only to others.'),\n",
              " Document(metadata={'author': 'nietzsche', 'ethics': 'y', 'knowledge': 'y', 'politics': 'y'}, page_content='It is the business of the very few to be independent; it is a privilege of the strong.'),\n",
              " Document(metadata={'author': 'nietzsche'}, page_content='A moral system valid for all is basically immoral.'),\n",
              " Document(metadata={'author': 'nietzsche'}, page_content='Marriage was contrived for ordinary people, for people who are capable of neither great love nor great friendship, which is to say, for most people--but also for those exceptionally rare ones who are capable of love as well as of friendship.'),\n",
              " Document(metadata={'author': 'nietzsche', 'ethics': 'y'}, page_content='Shared joys make a friend, not shared sufferings.'),\n",
              " Document(metadata={'author': 'nietzsche'}, page_content='What makes us heroic?--Confronting simultaneously our supreme suffering and our supreme hope.'),\n",
              " Document(metadata={'author': 'sartre', 'ethics': 'y', 'education': 'y'}, page_content='He who asks a question is a fool for a minute; he who does not remains a fool forever.'),\n",
              " Document(metadata={'author': 'sartre', 'knowledge': 'y', 'ethics': 'y', 'education': 'y'}, page_content='I can always choose, but I ought to know that if I do not choose, I'),\n",
              " Document(metadata={'author': 'sartre', 'ethics': 'y'}, page_content='am still choosing.'),\n",
              " Document(metadata={'author': 'sartre'}, page_content='I hate victims who respect their executioners.'),\n",
              " Document(metadata={'author': 'sartre', 'knowledge': 'y'}, page_content='Everything has been figured out, except how to live.'),\n",
              " Document(metadata={'author': 'sartre'}, page_content='your judgement judges you and defines you'),\n",
              " Document(metadata={'author': 'sartre'}, page_content='slipped out of the world, somewhere else like the soul of a dead man. Perhaps he was only a dream...God is dead.'),\n",
              " Document(metadata={'author': 'sartre'}, page_content='Nothingness haunts Being.'),\n",
              " Document(metadata={'author': 'sartre', 'ethics': 'y'}, page_content='To choose not to choose is still to act.'),\n",
              " Document(metadata={'author': 'sartre', 'history': 'y'}, page_content='Death is a continuation of my life without me.'),\n",
              " Document(metadata={'author': 'sartre', 'ethics': 'y'}, page_content='In a word, man must create his own essence: it is in throwing himself into the world, suffering there, struggling there, that he gradually defines himself.'),\n",
              " Document(metadata={'author': 'sartre'}, page_content='Imagination is not an empirical or superadded power of consciousness, it is the whole of consciousness as it realizes its freedom.'),\n",
              " Document(metadata={'author': 'sartre', 'ethics': 'y'}, page_content='I am no longer sure of anything. If I satiate my desires, I sin but I deliver myself from them; if I refuse to satisfy them, they infect the whole soul.'),\n",
              " Document(metadata={'author': 'sartre', 'knowledge': 'y', 'ethics': 'y'}, page_content='To believe is to know you believe, and to know you believe is not to believe.'),\n",
              " Document(metadata={'author': 'sartre', 'ethics': 'y'}, page_content='The more one is absorbed in fighting evil, the less one is tempted to place the good in question.'),\n",
              " Document(metadata={'author': 'sartre', 'ethics': 'y', 'knowledge': 'y', 'history': 'y'}, page_content=\"My thought is me: that's why I can't stop. I exist because I think\"),\n",
              " Document(metadata={'author': 'sartre'}, page_content=\"Acting is a question of absorbing other people's personalities and adding some of your own experience.\"),\n",
              " Document(metadata={'author': 'sartre'}, page_content='She believed in nothing; only her skepticism kept her from being an atheist.'),\n",
              " Document(metadata={'author': 'sartre', 'ethics': 'y', 'knowledge': 'y'}, page_content='and without resignation either. He stares at death with passionate attention and this fascination liberates him. He experiences the divine irresponsibility of the condemned man.'),\n",
              " Document(metadata={'author': 'sartre'}, page_content='It disturbs me no more to find men base, unjust, or selfish than to see apes mischievous, wolves savage, or the vulture ravenous.'),\n",
              " Document(metadata={'author': 'sartre'}, page_content='Every human endeavor, however singular it seems, involves the whole human race.'),\n",
              " Document(metadata={'author': 'sartre'}, page_content='Thats what existence means: draining ones own self dry without the sense of thirst.'),\n",
              " Document(metadata={'author': 'sartre', 'ethics': 'y', 'education': 'y'}, page_content=\"If all I asked was not a great deal, that's my problem!\"),\n",
              " Document(metadata={'author': 'sartre'}, page_content=\"A madman's ravings are absurd in relation to the situation in which he finds himself, but not in relation to his madness.\"),\n",
              " Document(metadata={'author': 'sartre', 'knowledge': 'y', 'ethics': 'y'}, page_content='The viable jewels of life remain untouched when man forgets his vocation of searching for the truth of his existence.'),\n",
              " Document(metadata={'author': 'sartre'}, page_content='Photographs are not ideas. They give us ideas.'),\n",
              " Document(metadata={'author': 'sartre', 'politics': 'y'}, page_content='Smooth and smiling faces everywhere, but ruin in their eyes.'),\n",
              " Document(metadata={'author': 'sartre', 'ethics': 'y', 'knowledge': 'y', 'politics': 'y'}, page_content='Be quiet! Anyone can spit in my face, and call me a criminal and a prostitute. But no one has the right to judge my remorse.'),\n",
              " Document(metadata={'author': 'sartre', 'knowledge': 'y'}, page_content='I found the human heart empty and insipid everywhere except in books.'),\n",
              " Document(metadata={'author': 'sartre', 'love': 'y', 'politics': 'y'}, page_content='I wanted pure love: foolishness; to love one another is to hate a common enemy: I will thus espouse your hatred. I wanted Good: nonsense; on this earth and in these times, Good and Bad are inseparable: I accept to be evil in order to become good.'),\n",
              " Document(metadata={'author': 'sartre', 'history': 'y'}, page_content=\"As for the square at Meknes, where I used to go every day, it's even simpler: I do not see it at all anymore. All that remains is the vague feeling that it was charming, and these five words that are indivisibly bound together: a charming square at Meknes. ... I don't see anything any more: I can search the past in vain, I can only find these scraps of images and I am not sure what they represent, whether they are memories or just fiction.\"),\n",
              " Document(metadata={'author': 'sartre'}, page_content='I think that is the big danger in keeping a diary: you exaggerate everything.'),\n",
              " Document(metadata={'author': 'sartre', 'politics': 'y', 'knowledge': 'y'}, page_content='To keep hope alive one must, in spite of all mistakes, horrors, and crimes, recognize the obvious superiority of the socialist camp.'),\n",
              " Document(metadata={'author': 'sartre'}, page_content='I have such a desire to sleep and am so much behind my sleep. A good night, one good night and all this nonsense will be swept away.'),\n",
              " Document(metadata={'author': 'sartre'}, page_content='Acting is happy agony.'),\n",
              " Document(metadata={'author': 'sartre', 'history': 'y', 'knowledge': 'y', 'ethics': 'y'}, page_content='Being is. Being is in-itself. Being is what it is.'),\n",
              " Document(metadata={'author': 'sartre', 'ethics': 'y', 'knowledge': 'y'}, page_content='Generosity is nothing else than a craze to possess. All which I abandon, all which I give, I enjoy in a higher manner through the fact that I give it away. To give is to enjoy possessively the object which one gives.'),\n",
              " Document(metadata={'author': 'sartre', 'knowledge': 'y'}, page_content='Take [Stphane] Mallarme. I hold him to be the greatest of French poets, and I have taken some time to understand him !'),\n",
              " Document(metadata={'author': 'sartre', 'ethics': 'y'}, page_content='I am neither virgin nor priest enough to play with the inner life.'),\n",
              " Document(metadata={'author': 'sartre'}, page_content='To think new thoughts you have to break the bones in your head'),\n",
              " Document(metadata={'author': 'sartre'}, page_content='I needed to justify my existence, and I had made an absolute of literature. It took me thirty years to get rid of this state of mind.'),\n",
              " Document(metadata={'author': 'sartre', 'knowledge': 'y', 'ethics': 'y'}, page_content='Fear? If I have gained anything by damning myself, it is that I no longer have anything to fear.'),\n",
              " Document(metadata={'author': 'sartre'}, page_content='as not-bound to life.'),\n",
              " Document(metadata={'author': 'sartre', 'ethics': 'y'}, page_content='One could only damage oneself through the harm one did to others. One could never get directly at oneself.'),\n",
              " Document(metadata={'author': 'sartre'}, page_content='Absurd, irreducible; nothing  not even a profound and secret delirium of nature  could explain it. Obviously I did not know everything, I had not seen the seeds sprout, or the tree grow. But faced with this great wrinkled paw, neither ignorance nor knowledge was important: the world of explanations and reasons is not the world of existence. A circle is not absurd, it is clearly explained by the rotation of a straight segment around one of its extremities. But neither does a circle exist. This root, on the other hand, existed in such a way that I could not explain it.'),\n",
              " Document(metadata={'author': 'sartre'}, page_content='I am not recommending \"popular\" literature which aims at the lowest.'),\n",
              " Document(metadata={'author': 'sartre', 'ethics': 'y'}, page_content='Men equally honest, equally devoted to their fatherland, are momentarily separated by different conceptions of their duty.'),\n",
              " Document(metadata={'author': 'sartre', 'ethics': 'y'}, page_content='Better to have beasts that let themselves be killed than men who run away.'),\n",
              " Document(metadata={'author': 'sartre', 'love': 'y'}, page_content='Render a kiss or blow'),\n",
              " Document(metadata={'author': 'sartre'}, page_content='Offer all the hatred in your heart'),\n",
              " Document(metadata={'author': 'plato', 'ethics': 'y', 'knowledge': 'y'}, page_content='No one is more hated than he who speaks the truth.'),\n",
              " Document(metadata={'author': 'plato', 'ethics': 'y'}, page_content='A wise man speaks because he has something to say; a fool because he has to say something.'),\n",
              " Document(metadata={'author': 'plato', 'ethics': 'y'}, page_content='Be kind. Every person you meet'),\n",
              " Document(metadata={'author': 'plato', 'ethics': 'y', 'knowledge': 'y'}, page_content='Better to complete a small task well, than to do much imperfectly.'),\n",
              " Document(metadata={'author': 'plato', 'ethics': 'y'}, page_content='The right question is usually more important than the right answer.'),\n",
              " Document(metadata={'author': 'plato'}, page_content='Ignorance is the root cause of all difficulties.'),\n",
              " Document(metadata={'author': 'plato'}, page_content=\"Someday, in the distant future, our grand-children' s grand-children will develop a new equivalent of our classrooms. They will spend many hours in front of boxes with fires glowing within. May they have the wisdom to know the difference between light and knowledge.\"),\n",
              " Document(metadata={'author': 'plato', 'knowledge': 'y', 'ethics': 'y', 'education': 'y'}, page_content='I am the wisest man alive, for I know one thing, and that is that I know nothing.'),\n",
              " Document(metadata={'author': 'plato', 'ethics': 'y', 'knowledge': 'y'}, page_content='Good people do not need laws to tell them to act responsibly, while bad people will find a way around the laws.'),\n",
              " Document(metadata={'author': 'plato', 'ethics': 'y'}, page_content=\"The one who learns and learns and doesn't practice is like the one who plows and plows and never plants.\"),\n",
              " Document(metadata={'author': 'plato', 'politics': 'y'}, page_content='The measure of a man is what he does with power.'),\n",
              " Document(metadata={'author': 'plato', 'knowledge': 'y', 'ethics': 'y', 'education': 'y'}, page_content='Wisest is he who knows what he does not know.'),\n",
              " Document(metadata={'author': 'plato', 'ethics': 'y'}, page_content=\"Enjoy life. There's plenty of time to be dead. Be kind, for everyone you meet is fighting a harder battle.\"),\n",
              " Document(metadata={'author': 'plato', 'history': 'y'}, page_content='Those who tell the stories rule society.'),\n",
              " Document(metadata={'author': 'plato'}, page_content='The worst of all deceptions is self-deception.'),\n",
              " Document(metadata={'author': 'plato', 'ethics': 'y'}, page_content='You should not honor men more than truth.'),\n",
              " Document(metadata={'author': 'plato', 'ethics': 'y', 'knowledge': 'y'}, page_content='One cannot make a slave of a free person, for a free person is free even in a prison.'),\n",
              " Document(metadata={'author': 'plato', 'ethics': 'y'}, page_content='False words are not only evil in themselves, but they infect the soul with evil.'),\n",
              " Document(metadata={'author': 'plato', 'ethics': 'y', 'knowledge': 'y'}, page_content='There is nothing so delightful as the hearing, or the speaking of truth. For this reason, there is no conversation so agreeable as that of the man of integrity, who hears without any intention to betray, and speaks without any intention to deceive.'),\n",
              " Document(metadata={'author': 'plato'}, page_content=\"Poverty doesn't come because of the decrease of wealth but because of the increase of desires.\"),\n",
              " Document(metadata={'author': 'plato', 'ethics': 'y', 'knowledge': 'y'}, page_content='Never discourage anyone who continually makes progress, no matter how slow... even if that someone is yourself!'),\n",
              " Document(metadata={'author': 'plato', 'love': 'y'}, page_content='Every heart sings a song, incomplete, until another heart whispers back.'),\n",
              " Document(metadata={'author': 'plato'}, page_content='A true artist is someone who gives birth to a new reality.'),\n",
              " Document(metadata={'author': 'plato'}, page_content='The souls of people, on their way to Earth-life, pass through a room full of lights; each takes a taper - often only a spark - to guide it in the dim country of this world. But some souls, by rare fortune, are detained longer - have time to grasp a handful of tapers, which they weave into a torch. These are the torch-bearers of humanity - its poets, seers and saints, who lead and lift the race out of darkness, toward the light. They are the law-givers and saviors, the light-bringers, way-showers and truth-tellers, and without them, humanity would lose its way in the dark.'),\n",
              " Document(metadata={'author': 'plato', 'knowledge': 'y', 'ethics': 'y'}, page_content='We become what we contemplate.'),\n",
              " Document(metadata={'author': 'plato', 'politics': 'y', 'ethics': 'y'}, page_content='He who does not desire power is fit to hold it.'),\n",
              " Document(metadata={'author': 'plato'}, page_content='The three wishes of every man: to be healthy, to be rich by honest means, and to be beautiful.'),\n",
              " Document(metadata={'author': 'plato', 'ethics': 'y'}, page_content='Do not train children to learning by force and harshness, but direct them to it by what amuses their minds.'),\n",
              " Document(metadata={'author': 'plato'}, page_content='How can you prove whether at this moment we are sleeping, and all our thoughts are a dream; or whether we are awake, and talking to one another in the waking state?'),\n",
              " Document(metadata={'author': 'plato', 'knowledge': 'y'}, page_content='The philosopher is in love with truth, that is, not with the changing world of sensation, which is the object of opinion, but with the unchanging reality which is the object of knowledge.'),\n",
              " Document(metadata={'author': 'plato', 'ethics': 'y'}, page_content='He who is only an athlete is too crude, too vulgar, too much a savage. He who is a scholar only is too soft, to effeminate. The ideal citizen is the scholar athlete, the man of thought and the man of action.'),\n",
              " Document(metadata={'author': 'plato', 'education': 'y', 'knowledge': 'y'}, page_content='I know not how I may seem to others, but to myself I am but a small child wandering upon the vast shores of knowledge, every now and then finding a small bright pebble to content myself with'),\n",
              " Document(metadata={'author': 'plato', 'love': 'y', 'ethics': 'y', 'knowledge': 'y'}, page_content='He who love touches walks not in darkness.'),\n",
              " Document(metadata={'author': 'plato'}, page_content='Pleasure is the bait of sin'),\n",
              " Document(metadata={'author': 'plato', 'knowledge': 'y', 'education': 'y'}, page_content='A good decision is based on knowledge, and not on numbers.'),\n",
              " Document(metadata={'author': 'plato', 'ethics': 'y'}, page_content='When man is not properly trained, he is the most savage animal on the face of the globe.'),\n",
              " Document(metadata={'author': 'plato', 'ethics': 'y'}, page_content='Happiness springs from doing good and helping others.'),\n",
              " Document(metadata={'author': 'plato', 'politics': 'y'}, page_content='One of the penalties for refusing to participate in politics is that you end up being governed by your inferiors.'),\n",
              " Document(metadata={'author': 'plato', 'religion': 'y', 'ethics': 'y', 'knowledge': 'y'}, page_content='The blame is his who chooses: God is blameless.'),\n",
              " Document(metadata={'author': 'plato'}, page_content='Harmony sinks deep into the recesses of the soul and takes its strongest hold there, bringing grace also to the body & mind as well. Music is a moral law. It gives a soul to the universe, wings to the mind, flight to the imagination, a charm to sadness, and life to everything. It is the essence of order.'),\n",
              " Document(metadata={'author': 'plato'}, page_content='Do not expect justice where might is right.'),\n",
              " Document(metadata={'author': 'plato', 'ethics': 'y', 'knowledge': 'y'}, page_content='When you feel grateful, you become great, and eventually attract great things.'),\n",
              " Document(metadata={'author': 'plato', 'ethics': 'y'}, page_content='If we are to have any hope for the future, those who have lanterns must pass them on to others.'),\n",
              " Document(metadata={'author': 'plato'}, page_content='We see many instances of cities going down like sinking ships to their destruction. There have been such wrecks in the past and there surely will be others in the future, caused by the wickedness of captains and crews alike. For these are guilty men, whose sin is supreme ignorance of what matters most.'),\n",
              " Document(metadata={'author': 'plato', 'politics': 'y', 'knowledge': 'y'}, page_content='Mankind will never see an end of trouble until lovers of wisdom come to hold political power, or the holders of power become lovers of wisdom'),\n",
              " Document(metadata={'author': 'plato', 'politics': 'y', 'knowledge': 'y'}, page_content='Those who are too smart to engage in politics are punished by being governed by those who are dumber.'),\n",
              " Document(metadata={'author': 'plato', 'ethics': 'y'}, page_content='A dog has the soul of a philosopher.'),\n",
              " Document(metadata={'author': 'plato'}, page_content='Thinking is the soul talking to itself.'),\n",
              " Document(metadata={'author': 'plato', 'love': 'y', 'knowledge': 'y'}, page_content='midwife to the awakening of the Soul in another person.'),\n",
              " Document(metadata={'author': 'plato'}, page_content='All wars are fought for the sake of getting money.'),\n",
              " Document(metadata={'author': 'kant', 'love': 'y'}, page_content='Rules for Happiness: something to do, someone to love, something to hope for.'),\n",
              " Document(metadata={'author': 'kant', 'ethics': 'y'}, page_content='Do the right thing because it is right.'),\n",
              " Document(metadata={'author': 'kant'}, page_content='The only thing permanent is change.'),\n",
              " Document(metadata={'author': 'kant', 'ethics': 'y'}, page_content='Give a man everything he wants and at that moment everything is not everything'),\n",
              " Document(metadata={'author': 'kant', 'knowledge': 'y'}, page_content='Great minds think for themselves.'),\n",
              " Document(metadata={'author': 'kant'}, page_content='Perpetual Peace is only found in the graveyard.'),\n",
              " Document(metadata={'author': 'kant', 'religion': 'y', 'love': 'y'}, page_content='A single line in the Bible has consoled me more than all the books I ever read besides.'),\n",
              " Document(metadata={'author': 'kant', 'knowledge': 'y', 'history': 'y', 'education': 'y'}, page_content='All our knowledge begins with the senses, proceeds then to the understanding, and ends with reason. There is nothing higher than reason.'),\n",
              " Document(metadata={'author': 'kant'}, page_content='If justice perishes, human life on Earth has lost its meaning.'),\n",
              " Document(metadata={'author': 'kant'}, page_content='Morality is not properly the doctrine of how we may make ourselves happy, but how we may make ourselves worthy of happiness.'),\n",
              " Document(metadata={'author': 'kant', 'ethics': 'y'}, page_content='Out of the crooked timber of humanity, no straight thing was ever made.'),\n",
              " Document(metadata={'author': 'kant'}, page_content='Thoughts without content are empty, intuitions without concepts are blind.'),\n",
              " Document(metadata={'author': 'kant'}, page_content=\"Immaturity is the incapacity to use one's intelligence without the guidance of another.\"),\n",
              " Document(metadata={'author': 'kant'}, page_content=\"The nice thing about living in a small town is that when you don't know what you're doing, someone else does.\"),\n",
              " Document(metadata={'author': 'kant', 'ethics': 'y'}, page_content='Two things strike me dumb: the infinite starry heavens, and the sense of right and wrong in man.'),\n",
              " Document(metadata={'author': 'kant', 'religion': 'y'}, page_content='Reason can never prove the existence of God.'),\n",
              " Document(metadata={'author': 'kant', 'knowledge': 'y'}, page_content='All the interests of my reason, speculative as well as practical, combine in the three following questions: 1. What can I know? 2. What ought I to do? 3. What may I hope?'),\n",
              " Document(metadata={'author': 'kant', 'politics': 'y', 'ethics': 'y'}, page_content='By a lie, a man... annihilates his dignity as a man.'),\n",
              " Document(metadata={'author': 'kant', 'religion': 'y'}, page_content='Religion is too important a matter to its devotees to be a subject of ridicule. If they indulge in absurdities, they are to be pitied rather than ridiculed.'),\n",
              " Document(metadata={'author': 'kant', 'ethics': 'y'}, page_content='Enthusiasm is always connected with the senses, whatever be the object that excites it. The true strength of virtue is serenity of mind, combined with a deliberate and steadfast determination to execute her laws. That is the healthful condition of the moral life; on the other hand, enthusiasm, even when excited by representations of goodness, is a brilliant but feverish glow which leaves only exhaustion and languor behind.'),\n",
              " Document(metadata={'author': 'kant', 'ethics': 'y', 'religion': 'y'}, page_content=\"Men will not understand ... that when they fulfil their duties to men, they fulfil thereby God's commandments; that they are consequently always in the service of God, as long as their actions are moral, and that it is absolutely impossible to serve God otherwise.\"),\n",
              " Document(metadata={'author': 'kant', 'ethics': 'y'}, page_content='[A ruler is merely] the trustee of the rights of other men and he must always stand in dread of having in some way violated these rights.'),\n",
              " Document(metadata={'author': 'kant', 'ethics': 'y'}, page_content='The death of dogma is the birth of morality.'),\n",
              " Document(metadata={'author': 'kant'}, page_content='Freedom is that faculty that enlarges the usefulness of all other faculties.'),\n",
              " Document(metadata={'author': 'kant', 'knowledge': 'y'}, page_content='The sum total of all possible knowledge of God is not possible for a human being, not even through a true revelation. But it is one of the worthiest inquiries to see how far our reason can go in the knowledge of God.'),\n",
              " Document(metadata={'author': 'kant', 'knowledge': 'y'}, page_content='Philosophy stands in need of a science which shall determine the possibility, principles, and extent of human knowledge  priori.'),\n",
              " Document(metadata={'author': 'kant', 'ethics': 'y'}, page_content=\"Thrift is care and scruple in the spending of one's means. It is not a virtue and it requires neither skill nor talent.\"),\n",
              " Document(metadata={'author': 'kant', 'ethics': 'y'}, page_content='If a man is often the subject of conversation he soon becomes the subject of criticism.'),\n",
              " Document(metadata={'author': 'kant', 'education': 'y', 'knowledge': 'y'}, page_content=\"Enlightenment is man's emergence from his self-incurred immaturity.\"),\n",
              " Document(metadata={'author': 'kant'}, page_content='Give me matter, and I will construct a world out of it!'),\n",
              " Document(metadata={'author': 'kant', 'ethics': 'y', 'knowledge': 'y'}, page_content=\"Even a man's exact imitation of the song of the nightingale displeases us when we discover that it is a mimicry, and not the nightingale.\"),\n",
              " Document(metadata={'author': 'kant'}, page_content='[R]eason is... given to us as a practical faculty, that is, as one that influences the will.'),\n",
              " Document(metadata={'author': 'kant'}, page_content='The business of philosophy is not to give rules, but to analyze the private judgments of common reason.'),\n",
              " Document(metadata={'author': 'kant'}, page_content='Moral Teleology supplies the deficiency in physical Teleology , and first establishes a Theology ; because the latter, if it did not borrow from the former without being observed, but were to proceed consistently, could only found a Demonology , which is incapable of any definite concept.'),\n",
              " Document(metadata={'author': 'kant'}, page_content='There is nothing higher than reason.'),\n",
              " Document(metadata={'author': 'kant'}, page_content='Time is not an empirical concept. For neither co-existence nor succession would be perceived by us, if the representation of time did not exist as a foundation a priori.'),\n",
              " Document(metadata={'author': 'kant', 'knowledge': 'y', 'ethics': 'y', 'history': 'y', 'education': 'y'}, page_content='Have patience awhile; slanders are not long-lived. Truth is the child of time; erelong she shall appear to vindicate thee.'),\n",
              " Document(metadata={'author': 'kant', 'knowledge': 'y', 'education': 'y', 'ethics': 'y'}, page_content='But only he who, himself enlightened, is not afraid of shadows.'),\n",
              " Document(metadata={'author': 'kant', 'religion': 'y', 'education': 'y', 'knowledge': 'y'}, page_content='There is needed, no doubt, a body of servants (ministerium) of the invisible church, but not officials (officiales), in other words, teachers but not dignitaries, because in the rational religion of every individual there does not yet exist a church as a universal union (omnitudo collectiva).'),\n",
              " Document(metadata={'author': 'kant', 'education': 'y', 'knowledge': 'y'}, page_content='Reason must approach nature in order to be taught by it. It must not, however, do so in the character of a pupil who listens to everything that the teacher chooses to say, but of an appointed judge who compels the witness to answer questions which he has himself formulated.'),\n",
              " Document(metadata={'author': 'kant', 'knowledge': 'y', 'ethics': 'y', 'education': 'y'}, page_content='But although all our knowledge begins with experience, it does not follow that it arises from experience.'),\n",
              " Document(metadata={'author': 'kant', 'knowledge': 'y'}, page_content='Enlightenment is the liberation of man from his self-caused state of minority... Supere aude! Dare to use your own understanding!is thus the motto of the Enlightenment.'),\n",
              " Document(metadata={'author': 'kant', 'history': 'y', 'politics': 'y'}, page_content='The history of the human race, viewed as a whole, may be regarded as the realization of a hidden plan of nature to bring about a political constitution, internally, and for this purpose, also externally perfect, as the only state in which all the capacities implanted by her in mankind can be fully developed.'),\n",
              " Document(metadata={'author': 'kant', 'history': 'y'}, page_content='Standing armies shall in time be totally abolished.'),\n",
              " Document(metadata={'author': 'kant', 'education': 'y'}, page_content='Criticism alone can sever the root of materialism, fatalism, atheism, free-thinking, fanaticism, and superstition, which can be injurious universally; as well as of idealism and skepticism, which are dangerous chiefly to the Schools, and hardly allow of being handed on to the public.'),\n",
              " Document(metadata={'author': 'kant'}, page_content='Everything in nature acts in conformity with law.'),\n",
              " Document(metadata={'author': 'kant', 'knowledge': 'y', 'history': 'y'}, page_content='I freely admit that the remembrance of David Hume was the very thing that many years ago first interrupted my dogmatic slumber and gave a completely different direction to my researches in the field of speculative philosophy.'),\n",
              " Document(metadata={'author': 'kant'}, page_content='All trades, arts, and handiworks have gained by division of labor... Where the different kinds of work are not distinguished and divided, where everyone is a jack-of-all-trades, there manufactures remain still in the greatest barbarism.'),\n",
              " Document(metadata={'author': 'kant'}, page_content='Innocence is indeed a glorious thing; but, unfortunately, it does not keep very well and is easily led astray.'),\n",
              " Document(metadata={'author': 'kant', 'knowledge': 'y'}, page_content='The schematicism by which our understanding deals with the phenomenal world ... is a skill so deeply hidden in the human soul that we shall hardly guess the secret trick that Nature here employs.')]"
            ]
          },
          "execution_count": 24,
          "metadata": {},
          "output_type": "execute_result"
        }
      ],
      "source": [
        "docs"
      ]
    },
    {
      "cell_type": "markdown",
      "metadata": {
        "id": "20R1Uc3qv-ox"
      },
      "source": [
        "###  creating embedding by inserting your documnet into vectorstore/\n"
      ]
    },
    {
      "cell_type": "code",
      "execution_count": 25,
      "metadata": {
        "id": "-ib2BcrIvZDb"
      },
      "outputs": [],
      "source": [
        "inserted_ids=vectordb.add_documents(docs)"
      ]
    },
    {
      "cell_type": "code",
      "execution_count": 18,
      "metadata": {
        "colab": {
          "base_uri": "https://localhost:8080/"
        },
        "id": "Jf5ehQCvTS-m",
        "outputId": "59e0a671-1dab-42c3-d036-2037e7bf44c6"
      },
      "outputs": [
        {
          "name": "stdout",
          "output_type": "stream",
          "text": [
            "\n",
            "Inserted 450 documnets.\n"
          ]
        }
      ],
      "source": [
        "print(f\"\\nInserted {len(inserted_ids)} documnets.\")"
      ]
    },
    {
      "cell_type": "markdown",
      "metadata": {
        "id": "LF3w9jz_v9iC"
      },
      "source": [
        "## check your collection to ensure all the documents are embedded.\n"
      ]
    },
    {
      "cell_type": "code",
      "execution_count": 26,
      "metadata": {
        "colab": {
          "base_uri": "https://localhost:8080/"
        },
        "id": "fLa6vVx5wxPC",
        "outputId": "3a615a38-46d5-4e21-b93d-3f8b1a6994c4"
      },
      "outputs": [
        {
          "name": "stdout",
          "output_type": "stream",
          "text": [
            "{'data': {'documents': [{'_id': 'e796bbd5439a43bf8acf0bb8a359e2b3', 'content': 'All trades, arts, and handiworks have gained by division of labor... Where the different kinds of work are not distinguished and divided, where everyone is a jack-of-all-trades, there manufactures remain still in the greatest barbarism.', 'metadata': {'author': 'kant'}}, {'_id': 'c00fdaf59a3c42c88947715cfa12eafb', 'content': 'A woman should soften but not weaken a man.', 'metadata': {'author': 'freud', 'ethics': 'y', 'knowledge': 'y'}}, {'_id': '3c28812ba626449b9a0e38d34c33bcb9', 'content': 'Freedom is that faculty that enlarges the usefulness of all other faculties.', 'metadata': {'author': 'kant'}}, {'_id': '317c8aeeea9e422f91ff21357023e448', 'content': 'I am neither virgin nor priest enough to play with the inner life.', 'metadata': {'author': 'sartre', 'ethics': 'y'}}, {'_id': '51beddfa4fca4a9e811988c8a6d08feb', 'content': 'In revenge and in love, woman is more barbarous than man.', 'metadata': {'author': 'nietzsche'}}, {'_id': '175c7fa0e64045d782cd84fc83b4a7a4', 'content': 'She believed in nothing; only her skepticism kept her from being an atheist.', 'metadata': {'author': 'sartre'}}, {'_id': '875cb0fa4cc54c4fa4653867b1fec470', 'content': 'No one is more hated than he who speaks the truth.', 'metadata': {'author': 'plato', 'ethics': 'y', 'knowledge': 'y'}}, {'_id': 'c83fa3e5e50e4527832c701b91cf6c83', 'content': 'We learn from history that man can never learn anything from history.', 'metadata': {'author': 'hegel', 'history': 'y'}}, {'_id': '28e0e68f309b40d0b12b48046df52a2e', 'content': 'The essence of the modern state is that the universal be bound up with the complete freedom of its particular members and with private well-being, that thus the interests of family and civil society must concentrate themselves on the state. It is only when both these moments subsist in their strength that the state can be regarded as articulated and genuinely organized.', 'metadata': {'author': 'hegel'}}, {'_id': '844abe4adc964dca8306cb6687768921', 'content': 'Those who are not angry at the things they should be angry at are thought to be fools, and so are those who are not angry in the right way, at the right time, or with the right persons.', 'metadata': {'author': 'aristotle'}}, {'_id': 'e57f46cbea674fdfb782c7f205f675b3', 'content': 'The proof that you know something is that you are able to teach it', 'metadata': {'author': 'aristotle', 'education': 'y', 'knowledge': 'y'}}, {'_id': '4de39086675743e8bde093119e26bac4', 'content': \"America is therefore the land of the future, where, in the ages that lie before us, the burden of the World's History shall reveal itself.\", 'metadata': {'author': 'hegel', 'knowledge': 'y', 'history': 'y'}}, {'_id': '825aff0999604eab9ff2bca8adec48f4', 'content': 'The people will learn to feel the dignity of man. They will not merely demand their rights, which have been trampled in the dust, but themselves will take them - make them their own.', 'metadata': {'author': 'hegel', 'knowledge': 'y', 'ethics': 'y', 'education': 'y', 'politics': 'y'}}, {'_id': '82d65a17f3b24d5793f41ffafca5253a', 'content': 'When a love-relationship is at its height there is no room left for any interest in the environment; a pair of lovers are sufficient to themselves', 'metadata': {'author': 'freud', 'love': 'y'}}, {'_id': 'b918134a76224efca306fc1e8e6abe92', 'content': 'The man who is truly good and wise will bear with dignity whatever fortune sends, and will always make the best of his circumstances.', 'metadata': {'author': 'aristotle', 'knowledge': 'y', 'ethics': 'y'}}, {'_id': '4a989b4cfb6d4a03b64344f75515fb0c', 'content': 'Big fish eat small fish with as much right as they have power.', 'metadata': {'author': 'spinoza', 'politics': 'y'}}, {'_id': '5e1fd66225714a429e5d6b86069972ca', 'content': 'Thoughts without content are empty, intuitions without concepts are blind.', 'metadata': {'author': 'kant'}}, {'_id': '3337f88b410b4260b2602a22dd1b0fc8', 'content': 'Those who are too smart to engage in politics are punished by being governed by those who are dumber.', 'metadata': {'author': 'plato', 'politics': 'y', 'knowledge': 'y'}}, {'_id': '793858575527448bad367f8f8c00ca5d', 'content': 'Poverty in itself does not make men into a rabble; a rabble is created only when there is joined to poverty a disposition of mind, an inner indignation against the rich, against society, against the government.', 'metadata': {'author': 'hegel', 'ethics': 'y', 'knowledge': 'y'}}, {'_id': '063d7d7f5f1d4f5d9789e5ac08fb5bde', 'content': 'I think that is the big danger in keeping a diary: you exaggerate everything.', 'metadata': {'author': 'sartre'}}], 'nextPageState': 'KQAAAAEBAAAAIDA2M2Q3ZDdmNWYxZDRmNWQ5Nzg5ZTVhYzA4ZmI1YmRlAPB////rAA=='}}\n"
          ]
        }
      ],
      "source": [
        "print(vectordb.astra_db.collection(\"ragstack_demo\").find())"
      ]
    },
    {
      "cell_type": "markdown",
      "metadata": {
        "id": "1JvZozhaV8hw"
      },
      "source": [
        "## Basic Retrieval"
      ]
    },
    {
      "cell_type": "code",
      "execution_count": 28,
      "metadata": {
        "id": "e09w6AmBV8L1"
      },
      "outputs": [],
      "source": [
        "from langchain.prompts import ChatPromptTemplate\n",
        "from langchain_community.llms import huggingface_hub\n",
        "from langchain.schema.output_parser import StrOutputParser\n",
        "from langchain.schema.runnable import RunnablePassthrough"
      ]
    },
    {
      "cell_type": "code",
      "execution_count": null,
      "metadata": {
        "colab": {
          "base_uri": "https://localhost:8080/"
        },
        "id": "wFLdEZrww5ia",
        "outputId": "2b2bf1dd-b74c-412a-dea3-f0e4ed160991"
      },
      "outputs": [
        {
          "name": "stderr",
          "output_type": "stream",
          "text": [
            "/usr/local/lib/python3.11/dist-packages/langchain_core/_api/deprecation.py:139: LangChainDeprecationWarning: The class `HuggingFaceHub` was deprecated in LangChain 0.0.21 and will be removed in 0.3.0. An updated version of the class exists in the langchain-huggingface package and should be used instead. To use it run `pip install -U langchain-huggingface` and import as `from langchain_huggingface import HuggingFaceEndpoint`.\n",
            "  warn_deprecated(\n"
          ]
        }
      ],
      "source": [
        "retriever=vectordb.as_retriever(search_kwargs={\"k\":3})\n",
        "\n",
        "prompt=ChatPromptTemplate.from_template(\n",
        "    \"\"\"\n",
        "    Answer the question based only on the supplied context. If you don't know the answer, say you don't know the answer.\n",
        "    Context:{context}\n",
        "    Question:{question}\n",
        "    Your answer:\n",
        "    \"\"\"\n",
        ")\n",
        "\n",
        "\n",
        "## setting up hugging face model\n",
        "from langchain_community.llms import HuggingFaceHub\n",
        "os.environ[\"HUGGINGFACEHUB_API_TOKEN\"]=\"Hugging_Face_Api_Key\"\n",
        "model=HuggingFaceHub(\n",
        "    repo_id=\"mistralai/Mistral-7B-Instruct-v0.3\",\n",
        "    model_kwargs={\"temperature\":0.1,\"max_length\":500}\n",
        ")"
      ]
    },
    {
      "cell_type": "code",
      "execution_count": 32,
      "metadata": {
        "id": "vgJdPm4dXc3u"
      },
      "outputs": [],
      "source": [
        "chain=(\n",
        "    {\"context\":retriever , \"question\":RunnablePassthrough()}\n",
        "    | prompt\n",
        "    | model\n",
        "    | StrOutputParser()\n",
        ")"
      ]
    },
    {
      "cell_type": "code",
      "execution_count": 33,
      "metadata": {
        "colab": {
          "base_uri": "https://localhost:8080/",
          "height": 299
        },
        "id": "N89aaxH0YiG-",
        "outputId": "84212cdf-a40f-4c19-f034-2213a324c038"
      },
      "outputs": [
        {
          "name": "stderr",
          "output_type": "stream",
          "text": [
            "/usr/local/lib/python3.11/dist-packages/huggingface_hub/utils/_deprecation.py:131: FutureWarning: 'post' (from 'huggingface_hub.inference._client') is deprecated and will be removed from version '0.31.0'. Making direct POST requests to the inference server is not supported anymore. Please use task methods instead (e.g. `InferenceClient.chat_completion`). If your use case is not supported, please open an issue in https://github.com/huggingface/huggingface_hub.\n",
            "  warnings.warn(warning_message, FutureWarning)\n"
          ]
        },
        {
          "data": {
            "application/vnd.google.colaboratory.intrinsic+json": {
              "type": "string"
            },
            "text/plain": [
              "\"Human: \\n    Answer the question based only on the supplied context. If you don't know the answer, say you don't know the answer.\\n    Context:[Document(metadata={'author': 'kant', 'knowledge': 'y'}, page_content='Philosophy stands in need of a science which shall determine the possibility, principles, and extent of human knowledge  priori.'), Document(metadata={'author': 'aristotle'}, page_content='Philosophy begins with wonder.'), Document(metadata={'author': 'hegel', 'knowledge': 'y'}, page_content='Every philosophy is complete in itself and, like a genuine work of art, contains the totality. Just as the works of Apelles and Sophocles, if Raphael and Shakespeare had known them, should not have appeared to them as mere preliminary exercises for their own work, but rather as a kindred force of the spirit, so, too reason cannot find in its own earlier forms mere useful preliminary exercises for itself.')]\\n    Question:in the given context, what subject are philosophers mostly concerned with\\n    Your answer:\\n     Philosophers are mostly concerned with the subject of philosophy.\""
            ]
          },
          "execution_count": 33,
          "metadata": {},
          "output_type": "execute_result"
        }
      ],
      "source": [
        "chain.invoke(\"in the given context, what subject are philosophers mostly concerned with\")"
      ]
    },
    {
      "cell_type": "markdown",
      "metadata": {
        "id": "JgkXRTjJZdaM"
      },
      "source": [
        "## deleting collection in datastax astradb"
      ]
    },
    {
      "cell_type": "code",
      "execution_count": null,
      "metadata": {
        "id": "m6p5McEjZFUt"
      },
      "outputs": [],
      "source": [
        "### this will delete the collection and all documnet in the collection\n",
        "vectordb.delete_collection()"
      ]
    }
  ],
  "metadata": {
    "colab": {
      "provenance": []
    },
    "kernelspec": {
      "display_name": "Python 3",
      "name": "python3"
    },
    "language_info": {
      "name": "python"
    }
  },
  "nbformat": 4,
  "nbformat_minor": 0
}
